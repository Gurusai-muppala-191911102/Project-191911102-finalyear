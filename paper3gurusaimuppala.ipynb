{
  "nbformat": 4,
  "nbformat_minor": 0,
  "metadata": {
    "colab": {
      "provenance": []
    },
    "kernelspec": {
      "name": "python3",
      "display_name": "Python 3"
    },
    "language_info": {
      "name": "python"
    }
  },
  "cells": [
    {
      "cell_type": "code",
      "execution_count": null,
      "metadata": {
        "colab": {
          "base_uri": "https://localhost:8080/"
        },
        "id": "92n3KSLe7KA4",
        "outputId": "b3f2d0b0-cac9-434b-ec91-f0e2d3f5dcfd"
      },
      "outputs": [
        {
          "output_type": "stream",
          "name": "stdout",
          "text": [
            "Mounted at /content/gdrive\n"
          ]
        }
      ],
      "source": [
        "from google.colab import drive\n",
        "drive.mount('/content/gdrive')"
      ]
    },
    {
      "cell_type": "code",
      "source": [
        "file1 = open('/content/gdrive/MyDrive/projectfolder/largetext.txt','r')\n",
        "file2 = open('/content/gdrive/MyDrive/projectfolder/CharlotteMar2_2020.txt','r')\n",
        "file3 = open('/content/gdrive/MyDrive/projectfolder/CharlestonFeb28_2020.txt','r')\n",
        "\n",
        "manual_file1 = open(\"/content/gdrive/MyDrive/projectfolder/manual_keywords2.txt\",'r')\n",
        "manual_file2 = open(\"/content/gdrive/MyDrive/projectfolder/manual_keywords3.txt\",'r')\n",
        "manual_file3 = open(\"/content/gdrive/MyDrive/projectfolder/manual_keywords1.txt\",'r')"
      ],
      "metadata": {
        "id": "weEbtlVH7o_L"
      },
      "execution_count": null,
      "outputs": []
    },
    {
      "cell_type": "code",
      "source": [
        "pip install rake-nltk"
      ],
      "metadata": {
        "colab": {
          "base_uri": "https://localhost:8080/"
        },
        "id": "oaKWQgNw7uoT",
        "outputId": "eada0f04-df8a-4a56-c1e2-01cc704ba604"
      },
      "execution_count": null,
      "outputs": [
        {
          "output_type": "stream",
          "name": "stdout",
          "text": [
            "Looking in indexes: https://pypi.org/simple, https://us-python.pkg.dev/colab-wheels/public/simple/\n",
            "Collecting rake-nltk\n",
            "  Downloading rake_nltk-1.0.6-py3-none-any.whl (9.1 kB)\n",
            "Requirement already satisfied: nltk<4.0.0,>=3.6.2 in /usr/local/lib/python3.8/dist-packages (from rake-nltk) (3.7)\n",
            "Requirement already satisfied: joblib in /usr/local/lib/python3.8/dist-packages (from nltk<4.0.0,>=3.6.2->rake-nltk) (1.2.0)\n",
            "Requirement already satisfied: regex>=2021.8.3 in /usr/local/lib/python3.8/dist-packages (from nltk<4.0.0,>=3.6.2->rake-nltk) (2022.6.2)\n",
            "Requirement already satisfied: tqdm in /usr/local/lib/python3.8/dist-packages (from nltk<4.0.0,>=3.6.2->rake-nltk) (4.64.1)\n",
            "Requirement already satisfied: click in /usr/local/lib/python3.8/dist-packages (from nltk<4.0.0,>=3.6.2->rake-nltk) (7.1.2)\n",
            "Installing collected packages: rake-nltk\n",
            "Successfully installed rake-nltk-1.0.6\n"
          ]
        }
      ]
    },
    {
      "cell_type": "code",
      "source": [
        "pip install nltk"
      ],
      "metadata": {
        "colab": {
          "base_uri": "https://localhost:8080/"
        },
        "id": "-XtjNzi77y-g",
        "outputId": "ae8e274c-52e5-437a-92e3-efa9216030da"
      },
      "execution_count": null,
      "outputs": [
        {
          "output_type": "stream",
          "name": "stdout",
          "text": [
            "Looking in indexes: https://pypi.org/simple, https://us-python.pkg.dev/colab-wheels/public/simple/\n",
            "Requirement already satisfied: nltk in /usr/local/lib/python3.8/dist-packages (3.7)\n",
            "Requirement already satisfied: click in /usr/local/lib/python3.8/dist-packages (from nltk) (7.1.2)\n",
            "Requirement already satisfied: regex>=2021.8.3 in /usr/local/lib/python3.8/dist-packages (from nltk) (2022.6.2)\n",
            "Requirement already satisfied: tqdm in /usr/local/lib/python3.8/dist-packages (from nltk) (4.64.1)\n",
            "Requirement already satisfied: joblib in /usr/local/lib/python3.8/dist-packages (from nltk) (1.2.0)\n"
          ]
        }
      ]
    },
    {
      "cell_type": "code",
      "source": [
        "import nltk\n",
        "nltk.download('stopwords')\n",
        "nltk.download('punkt')\n",
        "from nltk.corpus import stopwords\n",
        "from nltk.tokenize import word_tokenize,sent_tokenize \n",
        "import math\n",
        "import operator\n",
        "from rake_nltk import Rake\n",
        "from matplotlib import pyplot as plt  \n",
        "import random\n",
        "import time\n",
        "r = Rake()\n",
        "stop_words = set(stopwords.words('english'))"
      ],
      "metadata": {
        "colab": {
          "base_uri": "https://localhost:8080/"
        },
        "id": "G_vUJ1Q773IE",
        "outputId": "ccbf0e0c-d6d9-4ae7-dc20-b5014eb6413d"
      },
      "execution_count": null,
      "outputs": [
        {
          "output_type": "stream",
          "name": "stderr",
          "text": [
            "[nltk_data] Downloading package stopwords to /root/nltk_data...\n",
            "[nltk_data]   Unzipping corpora/stopwords.zip.\n",
            "[nltk_data] Downloading package punkt to /root/nltk_data...\n",
            "[nltk_data]   Unzipping tokenizers/punkt.zip.\n"
          ]
        }
      ]
    },
    {
      "cell_type": "code",
      "source": [
        "def main(file,manual_file):\n",
        "  doc1 = file.read()\n",
        "  data_manual = manual_file.read()\n",
        "  manual_phrases = data_manual.split(\"\\n\")\n",
        "  manual_content_words = []\n",
        "  for i in manual_phrases:\n",
        "    w = i.split(\" \")\n",
        "    for j in w:\n",
        "      if j not in manual_content_words:\n",
        "        manual_content_words.append(j)\n",
        "  doc=\"\"\n",
        "  for i in doc1:\n",
        "    if i.isalpha():\n",
        "      i=i.lower()\n",
        "      doc+=i\n",
        "    else:\n",
        "      doc+=i\n",
        "\n",
        "  rake_content_words = []\n",
        "  def rake_algorithm(data):\n",
        "    r = Rake()\n",
        "    r.extract_keywords_from_text(data)\n",
        "    y=r.get_ranked_phrases()\n",
        "    t=r.get_ranked_phrases_with_scores()\n",
        "    for i in y:\n",
        "      w = i.split(\" \")\n",
        "      for j in w:\n",
        "        if j not in rake_content_words:\n",
        "          rake_content_words.append(j)\n",
        "  rake_algorithm(doc)\n",
        "\n",
        "  CF_content_words=[]\n",
        "  def bow(data):\n",
        "    def unique(sequence):\n",
        "        seen = set()\n",
        "        return [x for x in sequence if not (x in seen or seen.add(x))]\n",
        "    #create a list of stopwords.You can import stopwords from nltk too\n",
        "    stopwords=stop_words\n",
        "    #list of special characters.You can use regular expressions too\n",
        "    special_char=[\",\",\":\",\" \",\";\",\".\",\"?\"]\n",
        "    #Write the sentences in the corpus,in our case, just two \n",
        "    strings = sent_tokenize(data)\n",
        "    tokens=[]\n",
        "    for i in strings:\n",
        "      string = i.lower()\n",
        "      token = string.split()\n",
        "      tokens.append(token)\n",
        "    #create a vocabulary list\n",
        "    tok=[]\n",
        "    for i in tokens:\n",
        "      tok+=i\n",
        "    vocab=unique(tok)\n",
        "    #filter the vocabulary list\n",
        "    for w in vocab: \n",
        "        if w not in stopwords and w not in special_char: \n",
        "            bow_content_words.append(w)\n",
        "  bow(doc)\n",
        "  similar_words_rake = []\n",
        "  similar_words_bow=[]\n",
        "\n",
        "  for i in bow_content_words:\n",
        "    for j in manual_content_words:\n",
        "      if i==j:\n",
        "        if i not in similar_words_bow:\n",
        "          similar_words_bow.append(i)\n",
        "  for i in rake_content_words:\n",
        "    for j in manual_content_words:\n",
        "      if i==j:\n",
        "        if i not in similar_words_rake:\n",
        "          similar_words_rake.append(i)\n",
        "  rake_similar = (len(similar_words_rake)/len(manual_content_words))*100\n",
        "  bow_similar = (len(similar_words_bow)/len(manual_content_words))*100\n",
        "  return [bow_similar,rake_similar]\n"
      ],
      "metadata": {
        "id": "0Ocfi-l48FI5"
      },
      "execution_count": null,
      "outputs": []
    },
    {
      "cell_type": "code",
      "source": [
        "res3 = main(file1,manual_file1)\n",
        "print(res3)"
      ],
      "metadata": {
        "colab": {
          "base_uri": "https://localhost:8080/"
        },
        "id": "EJltxdPS945n",
        "outputId": "adb486ae-ccf8-4c0a-d524-0de6f7075fe1"
      },
      "execution_count": null,
      "outputs": [
        {
          "output_type": "stream",
          "name": "stdout",
          "text": [
            "[88.33333333333333, 99.16666666666667]\n"
          ]
        }
      ]
    },
    {
      "cell_type": "code",
      "source": [
        "res1 = main(file2,manual_file2)\n",
        "print(res1)"
      ],
      "metadata": {
        "colab": {
          "base_uri": "https://localhost:8080/"
        },
        "id": "o7ur-RaR98NI",
        "outputId": "8c037480-ba54-472c-bb79-9c4e13c4ee04"
      },
      "execution_count": null,
      "outputs": [
        {
          "output_type": "stream",
          "name": "stdout",
          "text": [
            "[60.54216867469879, 69.57831325301204]\n"
          ]
        }
      ]
    },
    {
      "cell_type": "code",
      "source": [
        "res2 = main(file3,manual_file3)\n",
        "print(res2)"
      ],
      "metadata": {
        "colab": {
          "base_uri": "https://localhost:8080/"
        },
        "id": "feKNwApd-AR8",
        "outputId": "2d7d4bd0-55f5-4124-99df-092a3efd7b52"
      },
      "execution_count": null,
      "outputs": [
        {
          "output_type": "stream",
          "name": "stdout",
          "text": [
            "[83.09859154929578, 88.73239436619718]\n"
          ]
        }
      ]
    },
    {
      "cell_type": "code",
      "source": [
        "import numpy as np\n",
        "import matplotlib.pyplot as plt\n",
        "x=[\"doc1\",\"doc2\",\"doc3\"]\n",
        "y1 = [res1[0],res2[0],res3[0]]\n",
        "y2 = [res1[1],res2[1],res3[1]]\n",
        "plt.plot(x, y2,label=\"RAKE\", color='g')\n",
        "plt.plot(x, y1,label=\"BOW\", color='y')\n",
        "plt.xlabel(\"documents\")\n",
        "plt.ylabel(\"percent of matched words\")\n",
        "plt.title('RAKE vs BOW similarity') \n",
        "plt.legend(loc='upper left')\n",
        "plt.show();"
      ],
      "metadata": {
        "colab": {
          "base_uri": "https://localhost:8080/",
          "height": 295
        },
        "id": "sV-ZEeWY-xnM",
        "outputId": "89230bd5-3f09-47fe-af14-60aa607b225f"
      },
      "execution_count": null,
      "outputs": [
        {
          "output_type": "display_data",
          "data": {
            "text/plain": [
              "<Figure size 432x288 with 1 Axes>"
            ],
            "image/png": "[encoded data removed]"
          },
          "metadata": {
            "needs_background": "light"
          }
        }
      ]
    }
  ]
}