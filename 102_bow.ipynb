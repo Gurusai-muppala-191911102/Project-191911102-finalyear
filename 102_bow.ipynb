{
  "nbformat": 4,
  "nbformat_minor": 0,
  "metadata": {
    "colab": {
      "provenance": []
    },
    "kernelspec": {
      "name": "python3",
      "display_name": "Python 3"
    },
    "language_info": {
      "name": "python"
    }
  },
  "cells": [
    {
      "cell_type": "code",
      "execution_count": 1,
      "metadata": {
        "colab": {
          "base_uri": "https://localhost:8080/"
        },
        "id": "92n3KSLe7KA4",
        "outputId": "55165b66-8c58-4426-c67f-3a6dade1e50b"
      },
      "outputs": [
        {
          "output_type": "stream",
          "name": "stdout",
          "text": [
            "Mounted at /content/gdrive\n"
          ]
        }
      ],
      "source": [
        "from google.colab import drive\n",
        "drive.mount('/content/gdrive')"
      ]
    },
    {
      "cell_type": "code",
      "source": [
        "test_file = open('/content/gdrive/MyDrive/projectfolder/CharlestonFeb28_2020.txt','r')\n",
        "manual_file = open(\"/content/gdrive/MyDrive/projectfolder/manual_keywords_rb.txt\",'r')\n",
        "data1=test_file.read()"
      ],
      "metadata": {
        "id": "VtBs5Rb8mVT2"
      },
      "execution_count": 117,
      "outputs": []
    },
    {
      "cell_type": "code",
      "source": [
        "file1 = open('/content/gdrive/MyDrive/projectfolder/largetext.txt','r')\n",
        "file2 = open('/content/gdrive/MyDrive/projectfolder/CharlotteMar2_2020.txt','r')\n",
        "\n",
        "\n",
        "manual_file1 = open(\"/content/gdrive/MyDrive/projectfolder/manual_keywords2.txt\",'r')\n",
        "manual_file2 = open(\"/content/gdrive/MyDrive/projectfolder/manual_keywords3.txt\",'r')\n"
      ],
      "metadata": {
        "id": "weEbtlVH7o_L"
      },
      "execution_count": 106,
      "outputs": []
    },
    {
      "cell_type": "code",
      "source": [
        "pip install rake-nltk"
      ],
      "metadata": {
        "colab": {
          "base_uri": "https://localhost:8080/"
        },
        "id": "oaKWQgNw7uoT",
        "outputId": "6cf9f939-d57e-445f-af74-0f9a27a778d5"
      },
      "execution_count": 107,
      "outputs": [
        {
          "output_type": "stream",
          "name": "stdout",
          "text": [
            "Looking in indexes: https://pypi.org/simple, https://us-python.pkg.dev/colab-wheels/public/simple/\n",
            "Requirement already satisfied: rake-nltk in /usr/local/lib/python3.8/dist-packages (1.0.6)\n",
            "Requirement already satisfied: nltk<4.0.0,>=3.6.2 in /usr/local/lib/python3.8/dist-packages (from rake-nltk) (3.7)\n",
            "Requirement already satisfied: regex>=2021.8.3 in /usr/local/lib/python3.8/dist-packages (from nltk<4.0.0,>=3.6.2->rake-nltk) (2022.6.2)\n",
            "Requirement already satisfied: joblib in /usr/local/lib/python3.8/dist-packages (from nltk<4.0.0,>=3.6.2->rake-nltk) (1.2.0)\n",
            "Requirement already satisfied: click in /usr/local/lib/python3.8/dist-packages (from nltk<4.0.0,>=3.6.2->rake-nltk) (7.1.2)\n",
            "Requirement already satisfied: tqdm in /usr/local/lib/python3.8/dist-packages (from nltk<4.0.0,>=3.6.2->rake-nltk) (4.64.1)\n"
          ]
        }
      ]
    },
    {
      "cell_type": "code",
      "source": [
        "pip install nltk"
      ],
      "metadata": {
        "colab": {
          "base_uri": "https://localhost:8080/"
        },
        "id": "-XtjNzi77y-g",
        "outputId": "2f3174ed-a9b1-4554-bacf-821abeffebb4"
      },
      "execution_count": 108,
      "outputs": [
        {
          "output_type": "stream",
          "name": "stdout",
          "text": [
            "Looking in indexes: https://pypi.org/simple, https://us-python.pkg.dev/colab-wheels/public/simple/\n",
            "Requirement already satisfied: nltk in /usr/local/lib/python3.8/dist-packages (3.7)\n",
            "Requirement already satisfied: tqdm in /usr/local/lib/python3.8/dist-packages (from nltk) (4.64.1)\n",
            "Requirement already satisfied: click in /usr/local/lib/python3.8/dist-packages (from nltk) (7.1.2)\n",
            "Requirement already satisfied: joblib in /usr/local/lib/python3.8/dist-packages (from nltk) (1.2.0)\n",
            "Requirement already satisfied: regex>=2021.8.3 in /usr/local/lib/python3.8/dist-packages (from nltk) (2022.6.2)\n"
          ]
        }
      ]
    },
    {
      "cell_type": "code",
      "source": [
        "import nltk\n",
        "nltk.download('stopwords')\n",
        "nltk.download('punkt')\n",
        "from nltk.corpus import stopwords\n",
        "from nltk.tokenize import word_tokenize,sent_tokenize \n",
        "import math\n",
        "import operator\n",
        "from rake_nltk import Rake\n",
        "from nltk import tokenize\n",
        "from matplotlib import pyplot as plt  \n",
        "import random\n",
        "import time\n",
        "r = Rake()\n",
        "stop_words = set(stopwords.words('english'))"
      ],
      "metadata": {
        "colab": {
          "base_uri": "https://localhost:8080/"
        },
        "id": "G_vUJ1Q773IE",
        "outputId": "e9c219d5-c656-4b14-ec83-6e6c586c2a90"
      },
      "execution_count": 118,
      "outputs": [
        {
          "output_type": "stream",
          "name": "stderr",
          "text": [
            "[nltk_data] Downloading package stopwords to /root/nltk_data...\n",
            "[nltk_data]   Package stopwords is already up-to-date!\n",
            "[nltk_data] Downloading package punkt to /root/nltk_data...\n",
            "[nltk_data]   Package punkt is already up-to-date!\n"
          ]
        }
      ]
    },
    {
      "cell_type": "code",
      "source": [
        "def main(file,manual_file):\n",
        "  doc1 = file.read()\n",
        "  data_manual = manual_file.read()\n",
        "  manual_phrases = data_manual.split(\"\\n\")\n",
        "  manual_content_words = []\n",
        "  for i in manual_phrases:\n",
        "    w = i.split(\" \")\n",
        "    for j in w:\n",
        "      if j not in manual_content_words:\n",
        "        manual_content_words.append(j)\n",
        "  doc=\"\"\n",
        "  for i in doc1:\n",
        "    if i.isalpha():\n",
        "      i=i.lower()\n",
        "      doc+=i\n",
        "    else:\n",
        "      doc+=i\n",
        "\n",
        "  rake_content_words = []\n",
        "  def rake_algorithm(data):\n",
        "    r = Rake()\n",
        "    r.extract_keywords_from_text(data)\n",
        "    y=r.get_ranked_phrases()\n",
        "    t=r.get_ranked_phrases_with_scores()\n",
        "    for i in y:\n",
        "      w = i.split(\" \")\n",
        "      for j in w:\n",
        "        if j not in rake_content_words:\n",
        "          rake_content_words.append(j)\n",
        "  rake_algorithm(doc)\n",
        "  bow_content_words=[]\n",
        "  def bow(data):\n",
        "    def unique(sequence):\n",
        "        seen = set()\n",
        "        return [x for x in sequence if not (x in seen or seen.add(x))]\n",
        "    #create a list of stopwords.You can import stopwords from nltk too\n",
        "    stopwords=stop_words\n",
        "    #list of special characters.You can use regular expressions too\n",
        "    special_char=[\",\",\":\",\" \",\";\",\".\",\"?\"]\n",
        "    #Write the sentences in the corpus,in our case, just two \n",
        "    strings = sent_tokenize(data)\n",
        "    tokens=[]\n",
        "    for i in strings:\n",
        "      string = i.lower()\n",
        "      token = string.split()\n",
        "      tokens.append(token)\n",
        "    #create a vocabulary list\n",
        "    tok=[]\n",
        "    for i in tokens:\n",
        "      tok+=i\n",
        "    vocab=unique(tok)\n",
        "    #filter the vocabulary list\n",
        "    for w in vocab: \n",
        "        if w not in stopwords and w not in special_char: \n",
        "            bow_content_words.append(w)\n",
        "  bow(doc)\n",
        "  similar_words_rake = []\n",
        "  similar_words_bow=[]\n",
        "\n",
        "  for i in bow_content_words:\n",
        "    for j in manual_content_words:\n",
        "      if i==j:\n",
        "        if i not in similar_words_bow:\n",
        "          similar_words_bow.append(i)\n",
        "  for i in rake_content_words:\n",
        "    for j in manual_content_words:\n",
        "      if i==j:\n",
        "        if i not in similar_words_rake:\n",
        "          similar_words_rake.append(i)\n",
        "  rake_similar = (len(similar_words_rake)/len(manual_content_words))*100\n",
        "  bow_similar = (len(similar_words_bow)/len(manual_content_words))*100\n",
        "  return [bow_similar,rake_similar]\n"
      ],
      "metadata": {
        "id": "0Ocfi-l48FI5"
      },
      "execution_count": 110,
      "outputs": []
    },
    {
      "cell_type": "code",
      "source": [
        "res = main(test_file,manual_file)\n",
        "print(\"BOW accuracy:\")\n",
        "print(res[0])\n",
        "print(\"RAKE accuracy:\")\n",
        "print(res[1])"
      ],
      "metadata": {
        "colab": {
          "base_uri": "https://localhost:8080/"
        },
        "id": "feKNwApd-AR8",
        "outputId": "a57ed3da-609a-4507-da73-f98d256e4c94"
      },
      "execution_count": 111,
      "outputs": [
        {
          "output_type": "stream",
          "name": "stdout",
          "text": [
            "BOW accuracy:\n",
            "68.71165644171779\n",
            "RAKE accuracy:\n",
            "75.4601226993865\n"
          ]
        }
      ]
    },
    {
      "cell_type": "code",
      "source": [
        "\n",
        "res1 = main(file2,manual_file2)\n",
        "res3 = main(file1,manual_file1)\n",
        "import numpy as np\n",
        "import matplotlib.pyplot as plt\n",
        "x=[\"doc1\",\"doc2\",\"doc3\"]\n",
        "y1 = [res1[0],res[0],res3[0]]\n",
        "y2 = [res1[1],res[1],res3[1]]\n",
        "plt.plot(x, y2,label=\"RAKE\", color='g')\n",
        "plt.plot(x, y1,label=\"BOW\", color='y')\n",
        "plt.xlabel(\"documents\")\n",
        "plt.ylabel(\"percent of matched words\")\n",
        "plt.title('RAKE vs BOW similarity') \n",
        "plt.legend(loc='upper left')\n",
        "plt.show();"
      ],
      "metadata": {
        "colab": {
          "base_uri": "https://localhost:8080/",
          "height": 295
        },
        "id": "sV-ZEeWY-xnM",
        "outputId": "0756c742-21a2-4223-b597-bc292adb7ef4"
      },
      "execution_count": 112,
      "outputs": [
        {
          "output_type": "display_data",
          "data": {
            "text/plain": [
              "<Figure size 432x288 with 1 Axes>"
            ],
            "image/png": "[encoded data removed]"
          },
          "metadata": {
            "needs_background": "light"
          }
        }
      ]
    },
    {
      "cell_type": "code",
      "source": [
        "\n",
        "def main_c(txt):\n",
        "        stop_words=set(stopwords.words('english'))\n",
        "        sentences = txt.split(\".\")\n",
        "        noOfSentences= int(len(sentences)*(1/4))\n",
        "        #print(sentences)\n",
        "\n",
        "        #user wants to reduce the content to \"no_sentences\" lines.                    \n",
        "        def summarize(text,no_sentences):\n",
        "                word_weights={}\n",
        "                for word in word_tokenize(text):\n",
        "                        word=word.lower()\n",
        "                        if len(word) >1 and word not in stop_words:\n",
        "                            if word in word_weights.keys():\n",
        "                                word_weights[word]+=1\n",
        "                            else:\n",
        "                                word_weights[word]=1\n",
        "                sentence_weights={}\n",
        "                for sent in tokenize.sent_tokenize(text):\n",
        "                        sentence_weights[sent]=0\n",
        "                        for word in word_tokenize(sent):\n",
        "                            word=word.lower()\n",
        "                            if word in word_weights.keys():\n",
        "                                sentence_weights[sent]+=word_weights[word]\n",
        "                highest_weights = sorted(sentence_weights.values())[-no_sentences:] # draw the graphs for the highest words and highest weighted sentences\n",
        "                summary=\"\"\n",
        "                for sentence,strength in sentence_weights.items():\n",
        "                        if strength in highest_weights:\n",
        "                            summary+=sentence+\" \"\n",
        "                summary = summary.replace(\"_\",\" \").strip()\n",
        "                return summary\n",
        "\n",
        "        all_reducetext1=summarize(txt,noOfSentences)\n",
        "        sentences=all_reducetext1.split(\".\")\n",
        "        return sentences\n",
        "\n",
        "R = main_c(data1)"
      ],
      "metadata": {
        "id": "Q5h2A3RAmDKa"
      },
      "execution_count": 119,
      "outputs": []
    },
    {
      "cell_type": "code",
      "source": [
        "from graphviz import Digraph\n",
        "g = Digraph('unix', filename='concept-map3',node_attr={'color': 'lightblue2', 'style': 'filled','shape': 'box'})\n",
        "\n",
        "for i in range(len(R)-1):\n",
        "  if len(R[i+1])>1:\n",
        "    g.edge(R[i],R[i+1])\n",
        "g.view()"
      ],
      "metadata": {
        "colab": {
          "base_uri": "https://localhost:8080/",
          "height": 36
        },
        "id": "pdpqcW4dmJEq",
        "outputId": "f4ee4741-02a2-46bf-dc05-f280166dac6c"
      },
      "execution_count": 121,
      "outputs": [
        {
          "output_type": "execute_result",
          "data": {
            "text/plain": [
              "'concept-map3.pdf'"
            ],
            "application/vnd.google.colaboratory.intrinsic+json": {
              "type": "string"
            }
          },
          "metadata": {},
          "execution_count": 121
        }
      ]
    },
    {
      "cell_type": "code",
      "source": [
        "from google.colab import files\n",
        "files.download('concept-map3.pdf')"
      ],
      "metadata": {
        "colab": {
          "base_uri": "https://localhost:8080/",
          "height": 17
        },
        "id": "W-hq6uoAmPmb",
        "outputId": "70cf8dc2-1aab-4220-bf6a-7ee009c888ed"
      },
      "execution_count": 122,
      "outputs": [
        {
          "output_type": "display_data",
          "data": {
            "text/plain": [
              "<IPython.core.display.Javascript object>"
            ],
            "application/javascript": [
              "\n",
              "    async function download(id, filename, size) {\n",
              "      if (!google.colab.kernel.accessAllowed) {\n",
              "        return;\n",
              "      }\n",
              "      const div = document.createElement('div');\n",
              "      const label = document.createElement('label');\n",
              "      label.textContent = `Downloading \"${filename}\": `;\n",
              "      div.appendChild(label);\n",
              "      const progress = document.createElement('progress');\n",
              "      progress.max = size;\n",
              "      div.appendChild(progress);\n",
              "      document.body.appendChild(div);\n",
              "\n",
              "      const buffers = [];\n",
              "      let downloaded = 0;\n",
              "\n",
              "      const channel = await google.colab.kernel.comms.open(id);\n",
              "      // Send a message to notify the kernel that we're ready.\n",
              "      channel.send({})\n",
              "\n",
              "      for await (const message of channel.messages) {\n",
              "        // Send a message to notify the kernel that we're ready.\n",
              "        channel.send({})\n",
              "        if (message.buffers) {\n",
              "          for (const buffer of message.buffers) {\n",
              "            buffers.push(buffer);\n",
              "            downloaded += buffer.byteLength;\n",
              "            progress.value = downloaded;\n",
              "          }\n",
              "        }\n",
              "      }\n",
              "      const blob = new Blob(buffers, {type: 'application/binary'});\n",
              "      const a = document.createElement('a');\n",
              "      a.href = window.URL.createObjectURL(blob);\n",
              "      a.download = filename;\n",
              "      div.appendChild(a);\n",
              "      a.click();\n",
              "      div.remove();\n",
              "    }\n",
              "  "
            ]
          },
          "metadata": {}
        },
        {
          "output_type": "display_data",
          "data": {
            "text/plain": [
              "<IPython.core.display.Javascript object>"
            ],
            "application/javascript": [
              "download(\"download_e8975179-b91e-48ed-a64c-a3e0b509cbb8\", \"concept-map3.pdf\", 48522)"
            ]
          },
          "metadata": {}
        }
      ]
    }
  ]
}