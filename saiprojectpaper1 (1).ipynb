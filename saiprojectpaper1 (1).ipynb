{
  "cells": [
    {
      "cell_type": "code",
      "execution_count": null,
      "metadata": {
        "colab": {
          "base_uri": "https://localhost:8080/"
        },
        "id": "BjylNwN_PVCK",
        "outputId": "27dfb1c9-96d3-4052-82b5-34f67c1f0714"
      },
      "outputs": [
        {
          "output_type": "stream",
          "name": "stdout",
          "text": [
            "Mounted at /content/gdrive\n"
          ]
        }
      ],
      "source": [
        "from google.colab import drive\n",
        "drive.mount('/content/gdrive')"
      ]
    },
    {
      "cell_type": "code",
      "execution_count": null,
      "metadata": {
        "colab": {
          "base_uri": "https://localhost:8080/"
        },
        "id": "Vlp-bVUeWuyT",
        "outputId": "a504bf1c-ea5c-4f2b-9fdb-d23127ac65f6"
      },
      "outputs": [
        {
          "output_type": "stream",
          "name": "stdout",
          "text": [
            "Looking in indexes: https://pypi.org/simple, https://us-python.pkg.dev/colab-wheels/public/simple/\n",
            "Collecting rake-nltk\n",
            "  Downloading rake_nltk-1.0.6-py3-none-any.whl (9.1 kB)\n",
            "Requirement already satisfied: nltk<4.0.0,>=3.6.2 in /usr/local/lib/python3.8/dist-packages (from rake-nltk) (3.7)\n",
            "Requirement already satisfied: click in /usr/local/lib/python3.8/dist-packages (from nltk<4.0.0,>=3.6.2->rake-nltk) (7.1.2)\n",
            "Requirement already satisfied: tqdm in /usr/local/lib/python3.8/dist-packages (from nltk<4.0.0,>=3.6.2->rake-nltk) (4.64.1)\n",
            "Requirement already satisfied: joblib in /usr/local/lib/python3.8/dist-packages (from nltk<4.0.0,>=3.6.2->rake-nltk) (1.2.0)\n",
            "Requirement already satisfied: regex>=2021.8.3 in /usr/local/lib/python3.8/dist-packages (from nltk<4.0.0,>=3.6.2->rake-nltk) (2022.6.2)\n",
            "Installing collected packages: rake-nltk\n",
            "Successfully installed rake-nltk-1.0.6\n"
          ]
        }
      ],
      "source": [
        "pip install rake-nltk\n"
      ]
    },
    {
      "cell_type": "code",
      "execution_count": null,
      "metadata": {
        "colab": {
          "base_uri": "https://localhost:8080/"
        },
        "id": "0a3Nf6pjXCY9",
        "outputId": "9c52bde2-9d37-486a-9504-39ef07f9baa2"
      },
      "outputs": [
        {
          "output_type": "stream",
          "name": "stdout",
          "text": [
            "Looking in indexes: https://pypi.org/simple, https://us-python.pkg.dev/colab-wheels/public/simple/\n",
            "Requirement already satisfied: nltk in /usr/local/lib/python3.8/dist-packages (3.7)\n",
            "Requirement already satisfied: click in /usr/local/lib/python3.8/dist-packages (from nltk) (7.1.2)\n",
            "Requirement already satisfied: joblib in /usr/local/lib/python3.8/dist-packages (from nltk) (1.2.0)\n",
            "Requirement already satisfied: tqdm in /usr/local/lib/python3.8/dist-packages (from nltk) (4.64.1)\n",
            "Requirement already satisfied: regex>=2021.8.3 in /usr/local/lib/python3.8/dist-packages (from nltk) (2022.6.2)\n"
          ]
        }
      ],
      "source": [
        "pip install nltk"
      ]
    },
    {
      "cell_type": "code",
      "execution_count": null,
      "metadata": {
        "colab": {
          "base_uri": "https://localhost:8080/"
        },
        "id": "qNSIDSmOXMSt",
        "outputId": "92c466f7-2d07-4ba5-a95a-bf335e7f7544"
      },
      "outputs": [
        {
          "output_type": "stream",
          "name": "stderr",
          "text": [
            "[nltk_data] Downloading package stopwords to /root/nltk_data...\n",
            "[nltk_data]   Unzipping corpora/stopwords.zip.\n"
          ]
        },
        {
          "output_type": "execute_result",
          "data": {
            "text/plain": [
              "True"
            ]
          },
          "metadata": {},
          "execution_count": 4
        }
      ],
      "source": [
        "import nltk\n",
        "nltk.download('stopwords')"
      ]
    },
    {
      "cell_type": "code",
      "execution_count": null,
      "metadata": {
        "colab": {
          "base_uri": "https://localhost:8080/"
        },
        "id": "M0-OjgHBXQ0g",
        "outputId": "41a4ed0e-1e11-4b8e-bff3-8141c2dee11f"
      },
      "outputs": [
        {
          "output_type": "stream",
          "name": "stderr",
          "text": [
            "[nltk_data] Downloading package punkt to /root/nltk_data...\n",
            "[nltk_data]   Unzipping tokenizers/punkt.zip.\n"
          ]
        },
        {
          "output_type": "execute_result",
          "data": {
            "text/plain": [
              "True"
            ]
          },
          "metadata": {},
          "execution_count": 9
        }
      ],
      "source": [
        "nltk.download('punkt')"
      ]
    },
    {
      "cell_type": "code",
      "execution_count": null,
      "metadata": {
        "id": "BEApGeTZbMOn"
      },
      "outputs": [],
      "source": [
        "import nltk.data\n",
        "from nltk import sent_tokenize, word_tokenize, PorterStemmer"
      ]
    },
    {
      "cell_type": "code",
      "execution_count": null,
      "metadata": {
        "id": "OT1CB7TfXZ00"
      },
      "outputs": [],
      "source": [
        "\n",
        "file1 = open('/content/gdrive/MyDrive/projectfolder/CharlestonFeb28_2020.txt','r')\n",
        "data1 = file1.read()\n",
        "sentences = sent_tokenize(data1)\n",
        "split_words=data1.split(\" \")\n",
        "print(len(sentences))\n",
        "print(len(data1.split(\" \")))\n",
        "for i in split_words:\n",
        "  print(i)"
      ]
    },
    {
      "cell_type": "code",
      "source": [
        "manual_file = open(\"/content/gdrive/MyDrive/projectfolder/manual_keywordsry.txt\",'r')\n",
        "data_manual = manual_file.read()\n",
        "manual_phrases = data_manual.split(\"\\n\")\n",
        "print(len(manual_phrases))\n",
        "for i in manual_phrases:\n",
        "  print(i)"
      ],
      "metadata": {
        "colab": {
          "base_uri": "https://localhost:8080/"
        },
        "id": "PRH_oEUhZj-l",
        "outputId": "aa3d58af-1543-4a63-f48c-d7c33522a635"
      },
      "execution_count": null,
      "outputs": [
        {
          "output_type": "stream",
          "name": "stdout",
          "text": [
            "29\n",
            "democrat field also supports deadly sanctuary cities\n",
            "executive order imposing price transparency\n",
            "launched new initiatives combating kidney disease\n",
            "giving 40 million american families\n",
            "president supports free federal welfare\n",
            "venezuela large scale version\n",
            "000 jobs last month alone\n",
            "lowering healthcare costs like nobody\n",
            "stopping surprise medical billing\n",
            "passed criminal justice reform\n",
            "great night last night .\"\n",
            "South Carolina Republican\n",
            "United States\n",
            "America\n",
            "Democrat\n",
            "Republican party\n",
            "great people\n",
            "Trump\n",
            "people\n",
            "Carolina\n",
            "Mini Mike\n",
            "President\n",
            "year\n",
            "country\n",
            "Tim\n",
            "Democrats\n",
            "makes seven million jobs since\n",
            "region … … thousand soldiers protecting\n",
            "\n"
          ]
        }
      ]
    },
    {
      "cell_type": "code",
      "execution_count": null,
      "metadata": {
        "id": "aZ_sgwR4bfJk"
      },
      "outputs": [],
      "source": [
        "from rake_nltk import Rake\n",
        "import random\n",
        "import time\n",
        "r = Rake()"
      ]
    },
    {
      "cell_type": "code",
      "execution_count": null,
      "metadata": {
        "id": "-97H92G4byDk"
      },
      "outputs": [],
      "source": [
        "\n",
        "file2 = open(\"/content/gdrive/MyDrive/projectfolder/output.txt\",'w')\n",
        "\n",
        "def rake_measures(y,manual_keywords):\n",
        "  common = set(y) & set(manual_keywords)\n",
        "  TP= len(common)\n",
        "  FP  = len(y)-TP\n",
        "  FN  = len(manual_keywords)-TP\n",
        "  precision = (TP)/(TP+FP)\n",
        "  recall =  (TP)/len(manual_keywords)\n",
        "  f_measure = (2*precision*recall)/(precision+recall)\n",
        "  miss_rate = FN/(TP+FN)\n",
        "  '''\n",
        "  Accuracy = (TP+TN)/ TOTAL\n",
        "  error_rate = (FP+FN)/ TOTAL\n",
        "  specificity = (TN)/(FP+TN)\n",
        "  '''\n",
        "  print(\"precision=\",precision,\" recall=\",recall,\" f-measure=\",f_measure)\n",
        "  #print(\"TP=\",TP,\"FP\",FP,\"FN=\",FN)\n",
        "\n",
        "def rake(data):\n",
        "  rake_phrases={}\n",
        "  rake_accuracy = {}\n",
        "  rake_error_rate = {}\n",
        "  count = 0\n",
        "  \n",
        "  for i in [5,10,15,20]:\n",
        "    start_time_rake = time.time()\n",
        "    r.extract_keywords_from_text(data)\n",
        "    t = r.get_ranked_phrases()[:i]\n",
        "    y = r.get_ranked_phrases_with_scores()[:i]\n",
        "    end_time_rake = time.time()\n",
        "    #manual_keywords=random.sample(y, int((1/3)*len(y)))\n",
        "    time_yake = end_time_rake-start_time_rake\n",
        "    \n",
        "    q = []\n",
        "    for j in y:\n",
        "      print(j[1])\n",
        "      if j[1] in manual_phrases:\n",
        "        q.append(j[1])\n",
        "    rake_phrases[i]=len(set(q))\n",
        "    accuracy = float((len(set(q))/i)*100)\n",
        "    rake_accuracy[i]= accuracy\n",
        "    rake_error_rate[i] = (100-accuracy)\n",
        "    print(\"the RAKE measures for \",i,\" rake extracted keywords :\")\n",
        "    rake_measures(t,manual_phrases)\n",
        "    print()\n",
        "\n",
        "  return rake_phrases,rake_accuracy\n",
        "  #print(manual_keywords)\n",
        "  \n",
        "\n",
        "rake_sol1,rake_sol2 = rake(data1)\n"
      ]
    },
    {
      "cell_type": "code",
      "source": [
        "all_words=[]\n",
        "def rake_write_data(data):\n",
        "  r.extract_keywords_from_text(data)\n",
        "  t = r.get_ranked_phrases()\n",
        "  t=set(t)\n",
        "  for i in t:\n",
        "    words = i.split(\" \")\n",
        "    for j in words:\n",
        "      all_words.append(j)\n",
        "rake_write_data(data1)\n",
        "all_words=set(all_words)\n",
        "\n",
        "for i in all_words:\n",
        "  if i.isalpha():\n",
        "    file2.write(i+\" \")\n",
        "\n"
      ],
      "metadata": {
        "id": "3bbQfuk3Cg2I"
      },
      "execution_count": null,
      "outputs": []
    },
    {
      "cell_type": "code",
      "execution_count": null,
      "metadata": {
        "id": "qq__j14RuFid",
        "colab": {
          "base_uri": "https://localhost:8080/"
        },
        "outputId": "e941d30f-98ea-4c34-be31-bfccb93c7c97"
      },
      "outputs": [
        {
          "output_type": "stream",
          "name": "stdout",
          "text": [
            "Looking in indexes: https://pypi.org/simple, https://us-python.pkg.dev/colab-wheels/public/simple/\n",
            "Collecting yake\n",
            "  Downloading yake-0.4.8-py2.py3-none-any.whl (60 kB)\n",
            "\u001b[2K     \u001b[90m━━━━━━━━━━━━━━━━━━━━━━━━━━━━━━━━━━━━━━━━\u001b[0m \u001b[32m60.2/60.2 KB\u001b[0m \u001b[31m2.3 MB/s\u001b[0m eta \u001b[36m0:00:00\u001b[0m\n",
            "\u001b[?25hRequirement already satisfied: tabulate in /usr/local/lib/python3.8/dist-packages (from yake) (0.8.10)\n",
            "Collecting segtok\n",
            "  Downloading segtok-1.5.11-py3-none-any.whl (24 kB)\n",
            "Collecting jellyfish\n",
            "  Downloading jellyfish-0.9.0.tar.gz (132 kB)\n",
            "\u001b[2K     \u001b[90m━━━━━━━━━━━━━━━━━━━━━━━━━━━━━━━━━━━━━━━\u001b[0m \u001b[32m132.6/132.6 KB\u001b[0m \u001b[31m9.6 MB/s\u001b[0m eta \u001b[36m0:00:00\u001b[0m\n",
            "\u001b[?25h  Preparing metadata (setup.py) ... \u001b[?25l\u001b[?25hdone\n",
            "Requirement already satisfied: numpy in /usr/local/lib/python3.8/dist-packages (from yake) (1.21.6)\n",
            "Requirement already satisfied: click>=6.0 in /usr/local/lib/python3.8/dist-packages (from yake) (7.1.2)\n",
            "Requirement already satisfied: networkx in /usr/local/lib/python3.8/dist-packages (from yake) (3.0)\n",
            "Requirement already satisfied: regex in /usr/local/lib/python3.8/dist-packages (from segtok->yake) (2022.6.2)\n",
            "Building wheels for collected packages: jellyfish\n",
            "  Building wheel for jellyfish (setup.py) ... \u001b[?25l\u001b[?25hdone\n",
            "  Created wheel for jellyfish: filename=jellyfish-0.9.0-cp38-cp38-linux_x86_64.whl size=77928 sha256=bf69e03cf8ce8457bdd8322089b4449820d209d4a52b2ae884e49245bafc4298\n",
            "  Stored in directory: /root/.cache/pip/wheels/f1/c7/3c/4c83132de76359e3a429fd09c08995945ca96c5290a41651d3\n",
            "Successfully built jellyfish\n",
            "Installing collected packages: segtok, jellyfish, yake\n",
            "Successfully installed jellyfish-0.9.0 segtok-1.5.11 yake-0.4.8\n"
          ]
        }
      ],
      "source": [
        "pip install yake"
      ]
    },
    {
      "cell_type": "code",
      "execution_count": null,
      "metadata": {
        "id": "MNkP5105wMmX"
      },
      "outputs": [],
      "source": [
        "import yake\n",
        "file3 = open(\"/content/gdrive/MyDrive/projectfolder/super1.txt\",'w')\n",
        "\n",
        "all_yake_words = []\n",
        "def yake_algo(data):\n",
        "  yake_phrases = {}\n",
        "  yake_accuracy = {}\n",
        "  count= 0\n",
        "  kw_extractor = yake.KeywordExtractor()\n",
        "  keywords = kw_extractor.extract_keywords(data)\n",
        "  for i in keywords:\n",
        "    words = i[0].split(\" \")\n",
        "    for j in words:\n",
        "      all_yake_words.append(j)\n",
        "\n",
        "  for i in [5,10,15,20]:\n",
        "    count = 0\n",
        "    start_time_rake = time.time()\n",
        "    keywords = kw_extractor.extract_keywords(data)[:i]\n",
        "    end_time_rake = time.time()\n",
        "    time_yake = end_time_rake-start_time_rake\n",
        "\n",
        "    for j in keywords:\n",
        "      print(j[0])\n",
        "      if j[0] in manual_phrases:\n",
        "        count+=1\n",
        "    accuracy = float((count/i)*100)\n",
        "    yake_phrases[i]=count\n",
        "    yake_accuracy[i]= accuracy\n",
        "\n",
        "  return yake_phrases,yake_accuracy\n",
        "yake_sol1,yake_sol2 = yake_algo(data1)\n",
        "\n",
        "all_yake_words = set(all_yake_words)\n",
        "for i in all_yake_words:\n",
        "  if i.isalpha():\n",
        "    file3.write(i+\" \")"
      ]
    },
    {
      "cell_type": "code",
      "source": [
        "\n",
        "from matplotlib import pyplot as plt  \n",
        "plt.bar(list(rake_sol1.keys()),list(rake_sol1.values()),color='green')  \n",
        "plt.bar(list(yake_sol1.keys()),list(yake_sol1.values()),color='red')\n",
        "plt.xlabel(\"No. of keywords extracted by RAKE\")\n",
        "plt.ylabel(\"No. of keywords matched with manual keywords\")\n",
        "plt.title('RAKE vs YAKE') \n",
        "plt.show();"
      ],
      "metadata": {
        "colab": {
          "base_uri": "https://localhost:8080/",
          "height": 295
        },
        "id": "O9fpyzjLdf5e",
        "outputId": "a6121d8e-432b-4f02-b82a-2df40228453a"
      },
      "execution_count": null,
      "outputs": [
        {
          "output_type": "display_data",
          "data": {
            "text/plain": [
              "<Figure size 432x288 with 1 Axes>"
            ],
            "image/png": "[encoded data removed]"
          },
          "metadata": {
            "needs_background": "light"
          }
        }
      ]
    },
    {
      "cell_type": "code",
      "source": [
        "from matplotlib import pyplot as plt  \n",
        "plt.plot(list(rake_sol1.keys()),list(rake_sol1.values()),color='green',label=\"RAKE\",marker='+')  \n",
        "plt.plot(list(yake_sol1.keys()),list(yake_sol1.values()),color='red',label=\"YAKE\",marker='+')\n",
        "plt.xlabel(\"No. of keywords extracted by RAKE and YAKE\")\n",
        "plt.ylabel(\"No. of keywords matched with manual keywords\")\n",
        "plt.title('RAKE vs YAKE') \n",
        "plt.legend(loc='upper left')\n",
        "plt.show();"
      ],
      "metadata": {
        "colab": {
          "base_uri": "https://localhost:8080/",
          "height": 295
        },
        "id": "z7JK7nuah5xW",
        "outputId": "dc5c9d7b-3352-4945-c2b4-38e5ffa34e04"
      },
      "execution_count": null,
      "outputs": [
        {
          "output_type": "display_data",
          "data": {
            "text/plain": [
              "<Figure size 432x288 with 1 Axes>"
            ],
            "image/png": "[encoded data removed]"
          },
          "metadata": {
            "needs_background": "light"
          }
        }
      ]
    },
    {
      "cell_type": "code",
      "source": [
        "import pandas as pd\n",
        "myList=[list(rake_sol1.values()),list(yake_sol1.values())]\n",
        "myDf=pd.DataFrame(myList,columns=list(rake_sol1.keys()))\n",
        "myDf.index=[\"no. of RAKE keywords matched\",\"no. of YAKE keywords matched\"]\n",
        "newDf=myDf.T\n",
        "print(newDf)\n"
      ],
      "metadata": {
        "colab": {
          "base_uri": "https://localhost:8080/"
        },
        "id": "JH4kL20vk94k",
        "outputId": "aa2b34d2-27fb-49aa-d347-139ea0b695ee"
      },
      "execution_count": null,
      "outputs": [
        {
          "output_type": "stream",
          "name": "stdout",
          "text": [
            "    no. of RAKE keywords matched  no. of YAKE keywords matched\n",
            "5                              4                             2\n",
            "10                             8                             5\n",
            "15                            12                            10\n",
            "20                            13                            15\n"
          ]
        }
      ]
    },
    {
      "cell_type": "code",
      "source": [
        "from matplotlib import pyplot as plt  \n",
        "plt.plot(list(rake_sol2.keys()),list(rake_sol2.values()),color='green',label=\"RAKE\",marker='+')  \n",
        "plt.plot(list(yake_sol2.keys()),list(yake_sol2.values()),color='red',label=\"YAKE\",marker='+')\n",
        "plt.xlabel(\"No. of keywords extracted by RAKE and YAKE\")\n",
        "plt.ylabel(\"Accuracy\")\n",
        "plt.title('RAKE vs YAKE ACCURACY') \n",
        "plt.legend(loc='upper left')\n",
        "plt.show();"
      ],
      "metadata": {
        "id": "i3huSmjn4lal",
        "colab": {
          "base_uri": "https://localhost:8080/",
          "height": 295
        },
        "outputId": "6ea81a8a-35cb-4a17-bbef-0799abbcd783"
      },
      "execution_count": null,
      "outputs": [
        {
          "output_type": "display_data",
          "data": {
            "text/plain": [
              "<Figure size 432x288 with 1 Axes>"
            ],
            "image/png": "[encoded data removed]"
          },
          "metadata": {
            "needs_background": "light"
          }
        }
      ]
    },
    {
      "cell_type": "code",
      "source": [
        "pip install spacy"
      ],
      "metadata": {
        "colab": {
          "base_uri": "https://localhost:8080/"
        },
        "id": "g1jQ3w_S6GTB",
        "outputId": "25cc4093-9116-4b6f-d73d-f775850a4b71"
      },
      "execution_count": null,
      "outputs": [
        {
          "output_type": "stream",
          "name": "stdout",
          "text": [
            "Looking in indexes: https://pypi.org/simple, https://us-python.pkg.dev/colab-wheels/public/simple/\n",
            "Requirement already satisfied: spacy in /usr/local/lib/python3.8/dist-packages (3.4.4)\n",
            "Requirement already satisfied: thinc<8.2.0,>=8.1.0 in /usr/local/lib/python3.8/dist-packages (from spacy) (8.1.7)\n",
            "Requirement already satisfied: numpy>=1.15.0 in /usr/local/lib/python3.8/dist-packages (from spacy) (1.21.6)\n",
            "Requirement already satisfied: smart-open<7.0.0,>=5.2.1 in /usr/local/lib/python3.8/dist-packages (from spacy) (6.3.0)\n",
            "Requirement already satisfied: langcodes<4.0.0,>=3.2.0 in /usr/local/lib/python3.8/dist-packages (from spacy) (3.3.0)\n",
            "Requirement already satisfied: murmurhash<1.1.0,>=0.28.0 in /usr/local/lib/python3.8/dist-packages (from spacy) (1.0.9)\n",
            "Requirement already satisfied: catalogue<2.1.0,>=2.0.6 in /usr/local/lib/python3.8/dist-packages (from spacy) (2.0.8)\n",
            "Requirement already satisfied: srsly<3.0.0,>=2.4.3 in /usr/local/lib/python3.8/dist-packages (from spacy) (2.4.5)\n",
            "Requirement already satisfied: spacy-loggers<2.0.0,>=1.0.0 in /usr/local/lib/python3.8/dist-packages (from spacy) (1.0.4)\n",
            "Requirement already satisfied: typer<0.8.0,>=0.3.0 in /usr/local/lib/python3.8/dist-packages (from spacy) (0.7.0)\n",
            "Requirement already satisfied: packaging>=20.0 in /usr/local/lib/python3.8/dist-packages (from spacy) (23.0)\n",
            "Requirement already satisfied: jinja2 in /usr/local/lib/python3.8/dist-packages (from spacy) (2.11.3)\n",
            "Requirement already satisfied: pathy>=0.3.5 in /usr/local/lib/python3.8/dist-packages (from spacy) (0.10.1)\n",
            "Requirement already satisfied: pydantic!=1.8,!=1.8.1,<1.11.0,>=1.7.4 in /usr/local/lib/python3.8/dist-packages (from spacy) (1.10.4)\n",
            "Requirement already satisfied: spacy-legacy<3.1.0,>=3.0.10 in /usr/local/lib/python3.8/dist-packages (from spacy) (3.0.12)\n",
            "Requirement already satisfied: setuptools in /usr/local/lib/python3.8/dist-packages (from spacy) (57.4.0)\n",
            "Requirement already satisfied: cymem<2.1.0,>=2.0.2 in /usr/local/lib/python3.8/dist-packages (from spacy) (2.0.7)\n",
            "Requirement already satisfied: preshed<3.1.0,>=3.0.2 in /usr/local/lib/python3.8/dist-packages (from spacy) (3.0.8)\n",
            "Requirement already satisfied: wasabi<1.1.0,>=0.9.1 in /usr/local/lib/python3.8/dist-packages (from spacy) (0.10.1)\n",
            "Requirement already satisfied: tqdm<5.0.0,>=4.38.0 in /usr/local/lib/python3.8/dist-packages (from spacy) (4.64.1)\n",
            "Requirement already satisfied: requests<3.0.0,>=2.13.0 in /usr/local/lib/python3.8/dist-packages (from spacy) (2.25.1)\n",
            "Requirement already satisfied: typing-extensions>=4.2.0 in /usr/local/lib/python3.8/dist-packages (from pydantic!=1.8,!=1.8.1,<1.11.0,>=1.7.4->spacy) (4.4.0)\n",
            "Requirement already satisfied: certifi>=2017.4.17 in /usr/local/lib/python3.8/dist-packages (from requests<3.0.0,>=2.13.0->spacy) (2022.12.7)\n",
            "Requirement already satisfied: idna<3,>=2.5 in /usr/local/lib/python3.8/dist-packages (from requests<3.0.0,>=2.13.0->spacy) (2.10)\n",
            "Requirement already satisfied: chardet<5,>=3.0.2 in /usr/local/lib/python3.8/dist-packages (from requests<3.0.0,>=2.13.0->spacy) (4.0.0)\n",
            "Requirement already satisfied: urllib3<1.27,>=1.21.1 in /usr/local/lib/python3.8/dist-packages (from requests<3.0.0,>=2.13.0->spacy) (1.24.3)\n",
            "Requirement already satisfied: blis<0.8.0,>=0.7.8 in /usr/local/lib/python3.8/dist-packages (from thinc<8.2.0,>=8.1.0->spacy) (0.7.9)\n",
            "Requirement already satisfied: confection<1.0.0,>=0.0.1 in /usr/local/lib/python3.8/dist-packages (from thinc<8.2.0,>=8.1.0->spacy) (0.0.4)\n",
            "Requirement already satisfied: click<9.0.0,>=7.1.1 in /usr/local/lib/python3.8/dist-packages (from typer<0.8.0,>=0.3.0->spacy) (7.1.2)\n",
            "Requirement already satisfied: MarkupSafe>=0.23 in /usr/local/lib/python3.8/dist-packages (from jinja2->spacy) (2.0.1)\n"
          ]
        }
      ]
    },
    {
      "cell_type": "code",
      "source": [
        "pip install <model_s3_url>"
      ],
      "metadata": {
        "colab": {
          "base_uri": "https://localhost:8080/"
        },
        "id": "-T51yNEa-8W-",
        "outputId": "c4b1c0b6-a400-450b-d69f-252d8fe5b0ad"
      },
      "execution_count": null,
      "outputs": [
        {
          "output_type": "stream",
          "name": "stdout",
          "text": [
            "/bin/bash: -c: line 0: syntax error near unexpected token `newline'\n",
            "/bin/bash: -c: line 0: `pip install <model_s3_url>'\n"
          ]
        }
      ]
    },
    {
      "cell_type": "code",
      "source": [
        "pip install en_core_web_lg"
      ],
      "metadata": {
        "colab": {
          "base_uri": "https://localhost:8080/"
        },
        "id": "P3nJQQpnAtzC",
        "outputId": "8b27bd45-4786-4247-a852-165839e52d01"
      },
      "execution_count": null,
      "outputs": [
        {
          "output_type": "stream",
          "name": "stdout",
          "text": [
            "Looking in indexes: https://pypi.org/simple, https://us-python.pkg.dev/colab-wheels/public/simple/\n",
            "\u001b[31mERROR: Could not find a version that satisfies the requirement en_core_web_lg (from versions: none)\u001b[0m\u001b[31m\n",
            "\u001b[0m\u001b[31mERROR: No matching distribution found for en_core_web_lg\u001b[0m\u001b[31m\n",
            "\u001b[0m"
          ]
        }
      ]
    },
    {
      "cell_type": "code",
      "source": [
        "import spacy\n",
        "nlp = spacy.load('en_core_web_sm')\n",
        "doc1 = nlp(u'/content/gdrive/MyDrive/projectfolder/output.txt')\n",
        "doc2 = nlp(u'/content/gdrive/MyDrive/projectfolder/CharlestonFeb28_2020.txt')\n",
        "n  = (nlp(doc1).similarity(nlp(doc2)))\n",
        "print(n*100)"
      ],
      "metadata": {
        "colab": {
          "base_uri": "https://localhost:8080/"
        },
        "id": "-EgAy3On7Enr",
        "outputId": "b339cc18-fe6a-44d4-b048-5212acdb6762"
      },
      "execution_count": null,
      "outputs": [
        {
          "output_type": "stream",
          "name": "stderr",
          "text": [
            "/usr/local/lib/python3.8/dist-packages/torch/cuda/__init__.py:497: UserWarning: Can't initialize NVML\n",
            "  warnings.warn(\"Can't initialize NVML\")\n"
          ]
        },
        {
          "output_type": "stream",
          "name": "stdout",
          "text": [
            "95.0343712058909\n"
          ]
        },
        {
          "output_type": "stream",
          "name": "stderr",
          "text": [
            "<ipython-input-25-4f33b31c3ea0>:5: UserWarning: [W007] The model you're using has no word vectors loaded, so the result of the Doc.similarity method will be based on the tagger, parser and NER, which may not give useful similarity judgements. This may happen if you're using one of the small models, e.g. `en_core_web_sm`, which don't ship with word vectors and only use context-sensitive tensors. You can always add your own word vectors, or use one of the larger models instead if available.\n",
            "  n  = (nlp(doc1).similarity(nlp(doc2)))\n"
          ]
        }
      ]
    },
    {
      "cell_type": "code",
      "source": [
        "sum1_rake=sum(list(rake_sol1.values()))\n",
        "sum2_rake=sum(rake_sol1.keys())\n",
        "print(\"accuracy of RAKE:\")\n",
        "print((sum1_rake/sum2_rake)*100)\n",
        "sum1_yake=sum(list(yake_sol1.values()))\n",
        "sum2_yake=sum(yake_sol1.keys())\n",
        "print(\"accuracy of YAKE:\")\n",
        "print((sum1_yake/sum2_yake)*100)"
      ],
      "metadata": {
        "colab": {
          "base_uri": "https://localhost:8080/"
        },
        "id": "qpJu0zvwGFn7",
        "outputId": "c8067e4f-a2d1-462a-ecc4-07e36a2ce869"
      },
      "execution_count": null,
      "outputs": [
        {
          "output_type": "stream",
          "name": "stdout",
          "text": [
            "accuracy of RAKE:\n",
            "74.0\n",
            "accuracy of YAKE:\n",
            "64.0\n"
          ]
        }
      ]
    },
    {
      "cell_type": "code",
      "source": [
        "\n",
        "import nltk\n",
        "from nltk.corpus import stopwords\n",
        "from nltk.tokenize import word_tokenize, sent_tokenize\n",
        "from nltk import tokenize,word_tokenize\n",
        "def main_c(txt):\n",
        "        noOfSentences=100\n",
        "        stop_words=set(stopwords.words('english'))\n",
        "        sentences = txt.split(\".\")\n",
        "        noOfSentences= int(len(sentences)*(1/4))\n",
        "        #print(sentences)\n",
        "\n",
        "        #user wants to reduce the content to \"no_sentences\" lines.                    \n",
        "        def summarize(text,no_sentences):\n",
        "                word_weights={}\n",
        "                for word in word_tokenize(text):\n",
        "                        word=word.lower()\n",
        "                        if len(word) >1 and word not in stop_words:\n",
        "                            if word in word_weights.keys():\n",
        "                                word_weights[word]+=1\n",
        "                            else:\n",
        "                                word_weights[word]=1\n",
        "                sentence_weights={}\n",
        "                for sent in tokenize.sent_tokenize(text):\n",
        "                        sentence_weights[sent]=0\n",
        "                        for word in word_tokenize(sent):\n",
        "                            word=word.lower()\n",
        "                            if word in word_weights.keys():\n",
        "                                sentence_weights[sent]+=word_weights[word]\n",
        "                highest_weights = sorted(sentence_weights.values())[-no_sentences:] # draw the graphs for the highest words and highest weighted sentences\n",
        "                summary=\"\"\n",
        "                for sentence,strength in sentence_weights.items():\n",
        "                        if strength in highest_weights:\n",
        "                            summary+=sentence+\" \"\n",
        "                summary = summary.replace(\"_\",\" \").strip()\n",
        "                return summary\n",
        "\n",
        "        all_reducetext1=summarize(txt,noOfSentences)\n",
        "        sentences=all_reducetext1.split(\".\")\n",
        "        return sentences\n",
        "\n",
        "R = main_c(data1)\n"
      ],
      "metadata": {
        "id": "HhKXHaOSSeaR"
      },
      "execution_count": null,
      "outputs": []
    },
    {
      "cell_type": "code",
      "source": [
        "from graphviz import Digraph\n",
        "g = Digraph('unix', filename='concept-map2',node_attr={'color': 'lightblue2', 'style': 'filled','shape': 'box'})\n",
        "\n",
        "for i in range(len(R)-1):\n",
        "  if len(R[i+1])>1:\n",
        "    g.edge(R[i],R[i+1])\n",
        "g.view()"
      ],
      "metadata": {
        "colab": {
          "base_uri": "https://localhost:8080/",
          "height": 36
        },
        "id": "UmK-ctLXTmcX",
        "outputId": "9f8e54d6-313b-456d-8619-3fc6863799c5"
      },
      "execution_count": null,
      "outputs": [
        {
          "output_type": "execute_result",
          "data": {
            "text/plain": [
              "'concept-map2.pdf'"
            ],
            "application/vnd.google.colaboratory.intrinsic+json": {
              "type": "string"
            }
          },
          "metadata": {},
          "execution_count": 87
        }
      ]
    },
    {
      "cell_type": "code",
      "source": [
        "from google.colab import files\n",
        "files.download('concept-map2.pdf')"
      ],
      "metadata": {
        "colab": {
          "base_uri": "https://localhost:8080/",
          "height": 17
        },
        "id": "54JIU06pV8sS",
        "outputId": "e0769261-4d27-4b59-e5b4-0216b9e04853"
      },
      "execution_count": null,
      "outputs": [
        {
          "output_type": "display_data",
          "data": {
            "text/plain": [
              "<IPython.core.display.Javascript object>"
            ],
            "application/javascript": [
              "\n",
              "    async function download(id, filename, size) {\n",
              "      if (!google.colab.kernel.accessAllowed) {\n",
              "        return;\n",
              "      }\n",
              "      const div = document.createElement('div');\n",
              "      const label = document.createElement('label');\n",
              "      label.textContent = `Downloading \"${filename}\": `;\n",
              "      div.appendChild(label);\n",
              "      const progress = document.createElement('progress');\n",
              "      progress.max = size;\n",
              "      div.appendChild(progress);\n",
              "      document.body.appendChild(div);\n",
              "\n",
              "      const buffers = [];\n",
              "      let downloaded = 0;\n",
              "\n",
              "      const channel = await google.colab.kernel.comms.open(id);\n",
              "      // Send a message to notify the kernel that we're ready.\n",
              "      channel.send({})\n",
              "\n",
              "      for await (const message of channel.messages) {\n",
              "        // Send a message to notify the kernel that we're ready.\n",
              "        channel.send({})\n",
              "        if (message.buffers) {\n",
              "          for (const buffer of message.buffers) {\n",
              "            buffers.push(buffer);\n",
              "            downloaded += buffer.byteLength;\n",
              "            progress.value = downloaded;\n",
              "          }\n",
              "        }\n",
              "      }\n",
              "      const blob = new Blob(buffers, {type: 'application/binary'});\n",
              "      const a = document.createElement('a');\n",
              "      a.href = window.URL.createObjectURL(blob);\n",
              "      a.download = filename;\n",
              "      div.appendChild(a);\n",
              "      a.click();\n",
              "      div.remove();\n",
              "    }\n",
              "  "
            ]
          },
          "metadata": {}
        },
        {
          "output_type": "display_data",
          "data": {
            "text/plain": [
              "<IPython.core.display.Javascript object>"
            ],
            "application/javascript": [
              "download(\"download_b6671ab1-4d13-426e-bead-1420006e7e70\", \"concept-map2.pdf\", 48522)"
            ]
          },
          "metadata": {}
        }
      ]
    }
  ],
  "metadata": {
    "colab": {
      "provenance": []
    },
    "kernelspec": {
      "display_name": "Python 3",
      "name": "python3"
    },
    "language_info": {
      "name": "python"
    }
  },
  "nbformat": 4,
  "nbformat_minor": 0
}