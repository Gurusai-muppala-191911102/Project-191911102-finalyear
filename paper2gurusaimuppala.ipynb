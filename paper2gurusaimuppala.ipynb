{
  "nbformat": 4,
  "nbformat_minor": 0,
  "metadata": {
    "colab": {
      "provenance": []
    },
    "kernelspec": {
      "name": "python3",
      "display_name": "Python 3"
    },
    "language_info": {
      "name": "python"
    }
  },
  "cells": [
    {
      "cell_type": "code",
      "execution_count": null,
      "metadata": {
        "colab": {
          "base_uri": "https://localhost:8080/"
        },
        "id": "rDUakwla1qHw",
        "outputId": "9b8cd592-5935-447f-bfcf-17cccd657d38"
      },
      "outputs": [
        {
          "output_type": "stream",
          "name": "stdout",
          "text": [
            "Mounted at /content/gdrive\n"
          ]
        }
      ],
      "source": [
        "from google.colab import drive\n",
        "drive.mount('/content/gdrive')"
      ]
    },
    {
      "cell_type": "code",
      "source": [
        "file1 = open('/content/gdrive/MyDrive/projectfolder/largetext.txt','r')\n",
        "file2 = open('/content/gdrive/MyDrive/projectfolder/CharlotteMar2_2020.txt','r')\n",
        "file3 = open('/content/gdrive/MyDrive/projectfolder/CharlestonFeb28_2020.txt','r')\n",
        "\n",
        "manual_file1 = open(\"/content/gdrive/MyDrive/projectfolder/manual_keywords2.txt\",'r')\n",
        "manual_file2 = open(\"/content/gdrive/MyDrive/projectfolder/manual_keywords3.txt\",'r')\n",
        "manual_file3 = open(\"/content/gdrive/MyDrive/projectfolder/manual_keywords1.txt\",'r')\n"
      ],
      "metadata": {
        "id": "ljJWYUEn1xy8"
      },
      "execution_count": null,
      "outputs": []
    },
    {
      "cell_type": "code",
      "source": [
        "pip install rake-nltk"
      ],
      "metadata": {
        "colab": {
          "base_uri": "https://localhost:8080/"
        },
        "id": "BGKb4OUk12VW",
        "outputId": "57e1491c-0643-445f-88cb-1fe3ded029c0"
      },
      "execution_count": null,
      "outputs": [
        {
          "output_type": "stream",
          "name": "stdout",
          "text": [
            "Looking in indexes: https://pypi.org/simple, https://us-python.pkg.dev/colab-wheels/public/simple/\n",
            "Collecting rake-nltk\n",
            "  Downloading rake_nltk-1.0.6-py3-none-any.whl (9.1 kB)\n",
            "Requirement already satisfied: nltk<4.0.0,>=3.6.2 in /usr/local/lib/python3.8/dist-packages (from rake-nltk) (3.7)\n",
            "Requirement already satisfied: regex>=2021.8.3 in /usr/local/lib/python3.8/dist-packages (from nltk<4.0.0,>=3.6.2->rake-nltk) (2022.6.2)\n",
            "Requirement already satisfied: tqdm in /usr/local/lib/python3.8/dist-packages (from nltk<4.0.0,>=3.6.2->rake-nltk) (4.64.1)\n",
            "Requirement already satisfied: click in /usr/local/lib/python3.8/dist-packages (from nltk<4.0.0,>=3.6.2->rake-nltk) (7.1.2)\n",
            "Requirement already satisfied: joblib in /usr/local/lib/python3.8/dist-packages (from nltk<4.0.0,>=3.6.2->rake-nltk) (1.2.0)\n",
            "Installing collected packages: rake-nltk\n",
            "Successfully installed rake-nltk-1.0.6\n"
          ]
        }
      ]
    },
    {
      "cell_type": "code",
      "source": [
        "pip install nltk"
      ],
      "metadata": {
        "colab": {
          "base_uri": "https://localhost:8080/"
        },
        "id": "1pahr66W14wn",
        "outputId": "f9309f8e-a2da-4ae6-849e-24f0ff8e6944"
      },
      "execution_count": null,
      "outputs": [
        {
          "output_type": "stream",
          "name": "stdout",
          "text": [
            "Looking in indexes: https://pypi.org/simple, https://us-python.pkg.dev/colab-wheels/public/simple/\n",
            "Requirement already satisfied: nltk in /usr/local/lib/python3.8/dist-packages (3.7)\n",
            "Requirement already satisfied: click in /usr/local/lib/python3.8/dist-packages (from nltk) (7.1.2)\n",
            "Requirement already satisfied: joblib in /usr/local/lib/python3.8/dist-packages (from nltk) (1.2.0)\n",
            "Requirement already satisfied: regex>=2021.8.3 in /usr/local/lib/python3.8/dist-packages (from nltk) (2022.6.2)\n",
            "Requirement already satisfied: tqdm in /usr/local/lib/python3.8/dist-packages (from nltk) (4.64.1)\n"
          ]
        }
      ]
    },
    {
      "cell_type": "code",
      "source": [
        "import nltk\n",
        "nltk.download('stopwords')\n",
        "nltk.download('punkt')\n",
        "from nltk.corpus import stopwords\n",
        "from nltk.tokenize import word_tokenize,sent_tokenize \n",
        "import math\n",
        "import operator\n",
        "from rake_nltk import Rake\n",
        "from matplotlib import pyplot as plt  \n",
        "import random\n",
        "import time\n",
        "r = Rake()\n",
        "stop_words = set(stopwords.words('english'))"
      ],
      "metadata": {
        "colab": {
          "base_uri": "https://localhost:8080/"
        },
        "id": "0kdLZuvr1-Vl",
        "outputId": "4c522098-64c3-4e73-b7fd-791576ab4021"
      },
      "execution_count": null,
      "outputs": [
        {
          "output_type": "stream",
          "name": "stderr",
          "text": [
            "[nltk_data] Downloading package stopwords to /root/nltk_data...\n",
            "[nltk_data]   Unzipping corpora/stopwords.zip.\n",
            "[nltk_data] Downloading package punkt to /root/nltk_data...\n",
            "[nltk_data]   Unzipping tokenizers/punkt.zip.\n"
          ]
        }
      ]
    },
    {
      "cell_type": "code",
      "source": [
        "def main(file,manual_file):\n",
        "  doc1 = file.read()\n",
        "  data_manual = manual_file.read()\n",
        "  manual_phrases = data_manual.split(\"\\n\")\n",
        "  manual_content_words = []\n",
        "  for i in manual_phrases:\n",
        "    w = i.split(\" \")\n",
        "    for j in w:\n",
        "      if j not in manual_content_words:\n",
        "        manual_content_words.append(j)\n",
        "  doc=\"\"\n",
        "  for i in doc1:\n",
        "    if i.isalpha():\n",
        "      i=i.lower()\n",
        "      doc+=i\n",
        "    else:\n",
        "      doc+=i\n",
        "\n",
        "\n",
        "  total_sentences = sent_tokenize(doc)\n",
        "  total_sent_len = len(total_sentences)\n",
        "  total_words = word_tokenize(doc)\n",
        "  total_word_len = len(total_words)\n",
        "\n",
        "\n",
        "  tf_score = {}\n",
        "  for each_word in total_words:\n",
        "      each_word = each_word.replace('.','')\n",
        "      if each_word not in stop_words:\n",
        "          if each_word in tf_score:\n",
        "              tf_score[each_word] += 1\n",
        "          else:\n",
        "              tf_score[each_word] = 1\n",
        "\n",
        "  # Dividing by total_word_length for each dictionary element\n",
        "  tf_score.update((x, y/int(total_word_len)) for x, y in tf_score.items())\n",
        "\n",
        "  def check_sent(word, sentences): \n",
        "      final = [all([w in x for w in word]) for x in sentences] \n",
        "      sent_len = [sentences[i] for i in range(0, len(final)) if final[i]]\n",
        "      return int(len(sent_len))\n",
        "\n",
        "  idf_score = {}\n",
        "  for each_word in total_words:\n",
        "      each_word = each_word.replace('.','')\n",
        "      if each_word not in stop_words:\n",
        "          if each_word in idf_score:\n",
        "              idf_score[each_word] = check_sent(each_word, total_sentences)\n",
        "          else:\n",
        "              idf_score[each_word] = 1\n",
        "\n",
        "  removes=[]\n",
        "\n",
        "  for x, y in idf_score.items():\n",
        "    if int(y)==0:\n",
        "      removes.append(x)\n",
        "  for i in removes:\n",
        "    idf_score.pop(i)\n",
        "  # Performing a log and divide\n",
        "  idf_score.update((x, math.log(int(total_sent_len)/y)) for x, y in idf_score.items())\n",
        "\n",
        "  tf_idf_score = {key: tf_score[key] * idf_score.get(key, 0) for key in tf_score.keys()}\n",
        "\n",
        "  tfidf_content_words=[]\n",
        "  for i in tf_idf_score.keys():\n",
        "    if i not in tfidf_content_words:\n",
        "      tfidf_content_words.append(i)\n",
        "\n",
        "  rake_content_words = []\n",
        "  def rake_algorithm(data):\n",
        "    r = Rake()\n",
        "    r.extract_keywords_from_text(data)\n",
        "    y=r.get_ranked_phrases()\n",
        "    t=r.get_ranked_phrases_with_scores()\n",
        "    for i in y:\n",
        "      w = i.split(\" \")\n",
        "      for j in w:\n",
        "        if j not in rake_content_words:\n",
        "          rake_content_words.append(j)\n",
        "  rake_algorithm(doc)\n",
        "  similar_words_rake = []\n",
        "  similar_words_tfidf=[]\n",
        "  for i in tfidf_content_words:\n",
        "    for j in manual_content_words:\n",
        "      if i==j:\n",
        "        if i not in similar_words_tfidf:\n",
        "          similar_words_tfidf.append(i)\n",
        "  for i in rake_content_words:\n",
        "    for j in manual_content_words:\n",
        "      if i==j:\n",
        "        if i not in similar_words_rake:\n",
        "          similar_words_rake.append(i)\n",
        "  rake_similar = (len(similar_words_rake)/len(manual_content_words))*100\n",
        "  tf_idf_similar = (len(similar_words_tfidf)/len(manual_content_words))*100\n",
        "  return [tf_idf_similar,rake_similar]\n",
        "  \n",
        "  \n"
      ],
      "metadata": {
        "id": "zZxBxwJ_2PCM"
      },
      "execution_count": null,
      "outputs": []
    },
    {
      "cell_type": "code",
      "source": [
        "res3 = main(file1,manual_file1)\n",
        "print(res3)\n"
      ],
      "metadata": {
        "colab": {
          "base_uri": "https://localhost:8080/"
        },
        "id": "BfNmvbjnImT_",
        "outputId": "64c9adf0-617f-4191-ef08-1e3710752582"
      },
      "execution_count": null,
      "outputs": [
        {
          "output_type": "stream",
          "name": "stdout",
          "text": [
            "[98.33333333333333, 99.16666666666667]\n"
          ]
        }
      ]
    },
    {
      "cell_type": "code",
      "source": [
        "res1 = main(file2,manual_file2)\n",
        "print(res1)"
      ],
      "metadata": {
        "colab": {
          "base_uri": "https://localhost:8080/"
        },
        "id": "68-K6GlCIo7a",
        "outputId": "0bfe75ee-44a8-4cc1-b86a-a5297d0d83ef"
      },
      "execution_count": null,
      "outputs": [
        {
          "output_type": "stream",
          "name": "stdout",
          "text": [
            "[67.7710843373494, 69.57831325301204]\n"
          ]
        }
      ]
    },
    {
      "cell_type": "code",
      "source": [
        "res2 = main(file3,manual_file3)\n",
        "print(res2)"
      ],
      "metadata": {
        "colab": {
          "base_uri": "https://localhost:8080/"
        },
        "id": "utnUNWPQNMVx",
        "outputId": "8774876f-39cb-4444-f6d6-194b6498ba2b"
      },
      "execution_count": null,
      "outputs": [
        {
          "output_type": "stream",
          "name": "stdout",
          "text": [
            "[85.91549295774648, 88.73239436619718]\n"
          ]
        }
      ]
    },
    {
      "cell_type": "code",
      "source": [
        "import numpy as np\n",
        "import matplotlib.pyplot as plt\n"
      ],
      "metadata": {
        "id": "IbRul6jLN6Op"
      },
      "execution_count": null,
      "outputs": []
    },
    {
      "cell_type": "code",
      "source": [
        "x=[\"doc1\",\"doc2\",\"doc3\"]\n",
        "y1 = [res1[0],res2[0],res3[0]]\n",
        "y2 = [res1[1],res2[1],res3[1]]\n",
        "plt.plot(x, y2,label=\"RAKE\", color='g')\n",
        "plt.plot(x, y1,label=\"TFIDF\", color='y')\n",
        "plt.xlabel(\"documents\")\n",
        "plt.ylabel(\"percent of matched words\")\n",
        "plt.title('RAKE vs TF-IDF similarity') \n",
        "plt.legend(loc='upper left')\n",
        "plt.show();"
      ],
      "metadata": {
        "colab": {
          "base_uri": "https://localhost:8080/",
          "height": 295
        },
        "id": "vtgc6lqVnxq7",
        "outputId": "4c5f70a5-6a1f-4fb3-91d8-593a1d53a3c8"
      },
      "execution_count": null,
      "outputs": [
        {
          "output_type": "display_data",
          "data": {
            "text/plain": [
              "<Figure size 432x288 with 1 Axes>"
            ],
            "image/png": "[encoded data removed]"
          },
          "metadata": {
            "needs_background": "light"
          }
        }
      ]
    }
  ]
}