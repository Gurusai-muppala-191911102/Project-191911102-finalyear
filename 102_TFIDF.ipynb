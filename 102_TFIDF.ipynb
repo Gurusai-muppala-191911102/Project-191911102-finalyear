{
  "nbformat": 4,
  "nbformat_minor": 0,
  "metadata": {
    "colab": {
      "provenance": []
    },
    "kernelspec": {
      "name": "python3",
      "display_name": "Python 3"
    },
    "language_info": {
      "name": "python"
    }
  },
  "cells": [
    {
      "cell_type": "code",
      "execution_count": 21,
      "metadata": {
        "colab": {
          "base_uri": "https://localhost:8080/"
        },
        "id": "rDUakwla1qHw",
        "outputId": "e195dbfb-2592-4b10-aec7-9a83b8a9b0f4"
      },
      "outputs": [
        {
          "output_type": "stream",
          "name": "stdout",
          "text": [
            "Drive already mounted at /content/gdrive; to attempt to forcibly remount, call drive.mount(\"/content/gdrive\", force_remount=True).\n"
          ]
        }
      ],
      "source": [
        "from google.colab import drive\n",
        "drive.mount('/content/gdrive')"
      ]
    },
    {
      "cell_type": "code",
      "source": [
        "manual_file = open(\"/content/gdrive/MyDrive/projectfolder/manual_keywords_rtfidf.txt\",'r')\n",
        "test_file = open('/content/gdrive/MyDrive/projectfolder/CharlestonFeb28_2020.txt','r')\n"
      ],
      "metadata": {
        "id": "_alBW1TH3e1y"
      },
      "execution_count": 22,
      "outputs": []
    },
    {
      "cell_type": "code",
      "source": [
        "file1 = open('/content/gdrive/MyDrive/projectfolder/largetext.txt','r')\n",
        "file2 = open('/content/gdrive/MyDrive/projectfolder/CharlotteMar2_2020.txt','r')\n",
        "\n",
        "\n",
        "manual_file1 = open(\"/content/gdrive/MyDrive/projectfolder/manual_keywords2.txt\",'r')\n",
        "manual_file2 = open(\"/content/gdrive/MyDrive/projectfolder/manual_keywords3.txt\",'r')\n",
        "\n"
      ],
      "metadata": {
        "id": "ljJWYUEn1xy8"
      },
      "execution_count": 23,
      "outputs": []
    },
    {
      "cell_type": "code",
      "source": [
        "pip install rake-nltk"
      ],
      "metadata": {
        "colab": {
          "base_uri": "https://localhost:8080/"
        },
        "id": "BGKb4OUk12VW",
        "outputId": "ca9d7da6-79d9-4826-8fe3-872338b157d5"
      },
      "execution_count": 4,
      "outputs": [
        {
          "output_type": "stream",
          "name": "stdout",
          "text": [
            "Looking in indexes: https://pypi.org/simple, https://us-python.pkg.dev/colab-wheels/public/simple/\n",
            "Collecting rake-nltk\n",
            "  Downloading rake_nltk-1.0.6-py3-none-any.whl (9.1 kB)\n",
            "Requirement already satisfied: nltk<4.0.0,>=3.6.2 in /usr/local/lib/python3.8/dist-packages (from rake-nltk) (3.7)\n",
            "Requirement already satisfied: joblib in /usr/local/lib/python3.8/dist-packages (from nltk<4.0.0,>=3.6.2->rake-nltk) (1.2.0)\n",
            "Requirement already satisfied: tqdm in /usr/local/lib/python3.8/dist-packages (from nltk<4.0.0,>=3.6.2->rake-nltk) (4.64.1)\n",
            "Requirement already satisfied: regex>=2021.8.3 in /usr/local/lib/python3.8/dist-packages (from nltk<4.0.0,>=3.6.2->rake-nltk) (2022.6.2)\n",
            "Requirement already satisfied: click in /usr/local/lib/python3.8/dist-packages (from nltk<4.0.0,>=3.6.2->rake-nltk) (7.1.2)\n",
            "Installing collected packages: rake-nltk\n",
            "Successfully installed rake-nltk-1.0.6\n"
          ]
        }
      ]
    },
    {
      "cell_type": "code",
      "source": [
        "pip install nltk"
      ],
      "metadata": {
        "colab": {
          "base_uri": "https://localhost:8080/"
        },
        "id": "1pahr66W14wn",
        "outputId": "46ffd86b-7c5e-4453-88b8-29d97f7a7c25"
      },
      "execution_count": 5,
      "outputs": [
        {
          "output_type": "stream",
          "name": "stdout",
          "text": [
            "Looking in indexes: https://pypi.org/simple, https://us-python.pkg.dev/colab-wheels/public/simple/\n",
            "Requirement already satisfied: nltk in /usr/local/lib/python3.8/dist-packages (3.7)\n",
            "Requirement already satisfied: regex>=2021.8.3 in /usr/local/lib/python3.8/dist-packages (from nltk) (2022.6.2)\n",
            "Requirement already satisfied: click in /usr/local/lib/python3.8/dist-packages (from nltk) (7.1.2)\n",
            "Requirement already satisfied: tqdm in /usr/local/lib/python3.8/dist-packages (from nltk) (4.64.1)\n",
            "Requirement already satisfied: joblib in /usr/local/lib/python3.8/dist-packages (from nltk) (1.2.0)\n"
          ]
        }
      ]
    },
    {
      "cell_type": "code",
      "source": [
        "import nltk\n",
        "nltk.download('stopwords')\n",
        "nltk.download('punkt')\n",
        "from nltk.corpus import stopwords\n",
        "from nltk.tokenize import word_tokenize,sent_tokenize \n",
        "import math\n",
        "import operator\n",
        "from rake_nltk import Rake\n",
        "from matplotlib import pyplot as plt  \n",
        "import random\n",
        "import time\n",
        "r = Rake()\n",
        "stop_words = set(stopwords.words('english'))"
      ],
      "metadata": {
        "colab": {
          "base_uri": "https://localhost:8080/"
        },
        "id": "0kdLZuvr1-Vl",
        "outputId": "2896013d-1e4b-44f2-df79-b847b2a5429b"
      },
      "execution_count": 24,
      "outputs": [
        {
          "output_type": "stream",
          "name": "stderr",
          "text": [
            "[nltk_data] Downloading package stopwords to /root/nltk_data...\n",
            "[nltk_data]   Package stopwords is already up-to-date!\n",
            "[nltk_data] Downloading package punkt to /root/nltk_data...\n",
            "[nltk_data]   Package punkt is already up-to-date!\n"
          ]
        }
      ]
    },
    {
      "cell_type": "code",
      "source": [
        "def main(file1,manual_file):\n",
        "  doc1 = file1.read()\n",
        "  data_manual = manual_file.read()\n",
        "  manual_phrases = data_manual.split(\"\\n\")\n",
        "  manual_content_words = []\n",
        "  for i in manual_phrases:\n",
        "    w = i.split(\" \")\n",
        "    for j in w:\n",
        "      if j not in manual_content_words:\n",
        "        manual_content_words.append(j)\n",
        "  doc=\"\"\n",
        "  for i in doc1:\n",
        "    if i.isalpha():\n",
        "      i=i.lower()\n",
        "      doc+=i\n",
        "    else:\n",
        "      doc+=i\n",
        "\n",
        "\n",
        "  total_sentences = sent_tokenize(doc)\n",
        "  total_sent_len = len(total_sentences)\n",
        "  total_words = word_tokenize(doc)\n",
        "  total_word_len = len(total_words)\n",
        "\n",
        "\n",
        "  tf_score = {}\n",
        "  for each_word in total_words:\n",
        "      each_word = each_word.replace('.','')\n",
        "      if each_word not in stop_words:\n",
        "          if each_word in tf_score:\n",
        "              tf_score[each_word] += 1\n",
        "          else:\n",
        "              tf_score[each_word] = 1\n",
        "\n",
        "  # Dividing by total_word_length for each dictionary element\n",
        "  tf_score.update((x, y/int(total_word_len)) for x, y in tf_score.items())\n",
        "\n",
        "  def check_sent(word, sentences): \n",
        "      final = [all([w in x for w in word]) for x in sentences] \n",
        "      sent_len = [sentences[i] for i in range(0, len(final)) if final[i]]\n",
        "      return int(len(sent_len))\n",
        "\n",
        "  idf_score = {}\n",
        "  for each_word in total_words:\n",
        "      each_word = each_word.replace('.','')\n",
        "      if each_word not in stop_words:\n",
        "          if each_word in idf_score:\n",
        "              idf_score[each_word] = check_sent(each_word, total_sentences)\n",
        "          else:\n",
        "              idf_score[each_word] = 1\n",
        "\n",
        "  removes=[]\n",
        "\n",
        "  for x, y in idf_score.items():\n",
        "    if int(y)==0:\n",
        "      removes.append(x)\n",
        "  for i in removes:\n",
        "    idf_score.pop(i)\n",
        "  # Performing a log and divide\n",
        "  idf_score.update((x, math.log(int(total_sent_len)/y)) for x, y in idf_score.items())\n",
        "\n",
        "  tf_idf_score = {key: tf_score[key] * idf_score.get(key, 0) for key in tf_score.keys()}\n",
        "\n",
        "  tfidf_content_words=[]\n",
        "  for i in tf_idf_score.keys():\n",
        "    if i not in tfidf_content_words:\n",
        "      tfidf_content_words.append(i)\n",
        "\n",
        "  rake_content_words = []\n",
        "  def rake_algorithm(data):\n",
        "    r = Rake()\n",
        "    r.extract_keywords_from_text(data)\n",
        "    y=r.get_ranked_phrases()\n",
        "    t=r.get_ranked_phrases_with_scores()\n",
        "    for i in y:\n",
        "      w = i.split(\" \")\n",
        "      for j in w:\n",
        "        if j not in rake_content_words:\n",
        "          rake_content_words.append(j)\n",
        "  rake_algorithm(doc)\n",
        "  similar_words_rake = []\n",
        "  similar_words_tfidf=[]\n",
        "  for i in tfidf_content_words:\n",
        "    for j in manual_content_words:\n",
        "      if i==j:\n",
        "        if i not in similar_words_tfidf:\n",
        "          similar_words_tfidf.append(i)\n",
        "  for i in rake_content_words:\n",
        "    for j in manual_content_words:\n",
        "      if i==j:\n",
        "        if i not in similar_words_rake:\n",
        "          similar_words_rake.append(i)\n",
        "  rake_similar = (len(similar_words_rake)/len(manual_content_words))*100\n",
        "  tf_idf_similar = (len(similar_words_tfidf)/len(manual_content_words))*100\n",
        "  return [tf_idf_similar,rake_similar]\n",
        "  \n",
        "  \n"
      ],
      "metadata": {
        "id": "zZxBxwJ_2PCM"
      },
      "execution_count": 25,
      "outputs": []
    },
    {
      "cell_type": "code",
      "source": [
        "res = main(test_file,manual_file)\n",
        "print(\"RAKE accuracy:\")\n",
        "print(res[1])\n",
        "print(\"CF accuracy:\")\n",
        "print(res[0])"
      ],
      "metadata": {
        "colab": {
          "base_uri": "https://localhost:8080/"
        },
        "id": "utnUNWPQNMVx",
        "outputId": "4118405b-c2c8-4c16-90be-247adae5852d"
      },
      "execution_count": 26,
      "outputs": [
        {
          "output_type": "stream",
          "name": "stdout",
          "text": [
            "RAKE accuracy:\n",
            "74.48979591836735\n",
            "CF accuracy:\n",
            "64.28571428571429\n"
          ]
        }
      ]
    },
    {
      "cell_type": "code",
      "source": [
        "import numpy as np\n",
        "import matplotlib.pyplot as plt\n"
      ],
      "metadata": {
        "id": "IbRul6jLN6Op"
      },
      "execution_count": 27,
      "outputs": []
    },
    {
      "cell_type": "code",
      "source": [
        "res1 = main(file2,manual_file2)\n",
        "res3 = main(file1,manual_file1)\n",
        "x=[\"doc1\",\"doc2\",\"doc3\"]\n",
        "y1 = [res1[0],res[0],res3[0]]\n",
        "y2 = [res1[1],res[1],res3[1]]\n",
        "plt.plot(x, y2,label=\"RAKE\", color='g')\n",
        "plt.plot(x, y1,label=\"TFIDF\", color='y')\n",
        "plt.xlabel(\"documents\")\n",
        "plt.ylabel(\"percent of matched words\")\n",
        "plt.title('RAKE vs TF-IDF similarity') \n",
        "plt.legend(loc='upper left')\n",
        "plt.show();"
      ],
      "metadata": {
        "colab": {
          "base_uri": "https://localhost:8080/",
          "height": 295
        },
        "id": "vtgc6lqVnxq7",
        "outputId": "22c413db-305d-4a5c-aa57-ea1bc1314edf"
      },
      "execution_count": 28,
      "outputs": [
        {
          "output_type": "display_data",
          "data": {
            "text/plain": [
              "<Figure size 432x288 with 1 Axes>"
            ],
            "image/png": "[encoded data removed]"
          },
          "metadata": {
            "needs_background": "light"
          }
        }
      ]
    },
    {
      "cell_type": "code",
      "source": [
        "from nltk import tokenize\n",
        "\n",
        "data1= open('/content/gdrive/MyDrive/projectfolder/CharlestonFeb28_2020.txt','r').read()\n",
        "\n",
        "def main_c(txt):\n",
        "        stop_words=set(stopwords.words('english'))\n",
        "        sentences = txt.split(\".\")\n",
        "        noOfSentences= int(len(sentences)*(1/4))\n",
        "        #print(sentences)\n",
        "\n",
        "        #user wants to reduce the content to \"no_sentences\" lines.                    \n",
        "        def summarize(text,no_sentences):\n",
        "                word_weights={}\n",
        "                for word in word_tokenize(text):\n",
        "                        word=word.lower()\n",
        "                        if len(word) >1 and word not in stop_words:\n",
        "                            if word in word_weights.keys():\n",
        "                                word_weights[word]+=1\n",
        "                            else:\n",
        "                                word_weights[word]=1\n",
        "                sentence_weights={}\n",
        "                for sent in tokenize.sent_tokenize(text):\n",
        "                        sentence_weights[sent]=0\n",
        "                        for word in word_tokenize(sent):\n",
        "                            word=word.lower()\n",
        "                            if word in word_weights.keys():\n",
        "                                sentence_weights[sent]+=word_weights[word]\n",
        "                highest_weights = sorted(sentence_weights.values())[-no_sentences:] # draw the graphs for the highest words and highest weighted sentences\n",
        "                summary=\"\"\n",
        "                for sentence,strength in sentence_weights.items():\n",
        "                        if strength in highest_weights:\n",
        "                            summary+=sentence+\" \"\n",
        "                summary = summary.replace(\"_\",\" \").strip()\n",
        "                return summary\n",
        "\n",
        "        all_reducetext1=summarize(txt,noOfSentences)\n",
        "        sentences=all_reducetext1.split(\".\")\n",
        "        return sentences\n",
        "R = main_c(data1)\n",
        "print(main_c(data1))"
      ],
      "metadata": {
        "colab": {
          "base_uri": "https://localhost:8080/"
        },
        "id": "00gFITWI4V8I",
        "outputId": "90d966d6-4c09-4d32-d638-929e8e5bef5d"
      },
      "execution_count": 33,
      "outputs": [
        {
          "output_type": "stream",
          "name": "stdout",
          "text": [
            "[\"Hello Charleston, and I'm thrilled to be back in the great state of South Carolina with thousands of hardworking American Patriots who believe in faith, family, God, and country\", \" It's a phenomenal crowd, only topped by the number of people outside that didn't get in\", \" Then let's begin, right? They're trying to get to a hundred, but they're not going to make it\", \" Well, that's what they do\", \" No, it's crazy\", \" It's a crazy deal\", \" That's a lot of cameras\", \" That's a lot of cameras, Lindsey and Tim, that's a lot of… They heard you guys were here\", ' They heard Tim was here and that Lindsey was here and that… And they said, \"We\\'re not going to attend that rally,\" but when we heard those two guys plus our great congressmen, they\\'re here, great congressmen', \" We're thrilled to be in the midst of what we call the Great American Comeback and that's what it is\", ' They have spent the last three years, and I can even go further than that, three years since the election, but we go before the election, working to erase your ballots and overthrow our democracy', \" But with your help, we have exposed the far left's corruption and defeated their sinister schemes and let's see what happens in the coming months\", \" Let's watch\", \" Let's just watch\", ' You say, \"How\\'s President Trump doing?\" They go, \"Oh, not good, not good', '\" One of my people came up to me and said, \"Mr', ' President, they tried to beat you on Russia, Russia, Russia', '\" It\\'s all turning', \" But we did something that's been pretty amazing\", \" It's okay\", \" 35,000, that's a lot of people\", \" And it doesn't mean we won't and we are totally prepared\", \" It doesn't mean we won't, but think of it\", \" It's about us\", \" It's all about us\", \" You can hear it because when you hear it, that's not 200 people\", \" That's not a hundred people\", \" That's thousands and thousands of people including people outside\", ' She said, \"We don\\'t care', '\" Democrats will only say horrible things even though they know we\\'re doing a great job', \" It's incredible\", \" Even if their actions, and you take a look, hurt the people of this country, they'll hurt the people themselves, their wealth, their everything\", \" They're willing to hurt our country in order to say bad, even if they know it's not so\", \" It's made in South Korea\", ' What\\'s that all about? I\\'m waiting to see the best movie of the year- And it\\'s made… He said, \"It\\'s garbage', '\" That\\'s why', \" Take advantage of us, that's okay\", \" That's why I tell you when we have the flu with 35,000 people and this one we have to take it very, very seriously\", \" That's what we're doing\", ' An action which the Democrats loudly criticized and protested and now everybody\\'s complimenting me saying, \"Thank you very much', \" But I say, so let's get this right\", \" A virus starts in China, bleeds its way into various countries all around the world, doesn't spread widely at all in the United States because of the early actions that myself and my administration took against a lot of other wishes, and the Democrats' single talking point, and you see it, is that it's Donald Trump's fault, right? It's Donald Trump's fault\", \" That's who got happy\", \" It's a big thing, a virus task force\", ' The Democrats said, \"That\\'s terrible', \" He's doing the wrong thing\", ' I ask for two and a half, they want to give me eight and a half, so I said, \"I\\'ll take it', '\" That\\'s plenty', \" He doesn't know what he's doing\", \" It's gone up like magic\", \" It's going up great and we're up now 132 miles and this is the exact wall that border security, water, everything\", \" Whether it's the virus that we're talking about or many other public health threats, the Democrat policy of open borders is a direct threat to the health and wellbeing of all Americans\", \" When you have this virus or any other virus or any other problem coming in, it's not the only thing that comes in through the border\", \" No, it's true\", \" One of the things I asked them, and I've been thinking about this for a long time… And great people, great people\", ' Because you say, \"African American or Black?\" But the country in five years from now, of course you want to upset them, five years or nine years or 13 years', \" When you say to them five more years, so it's five, but you then say maybe nine, maybe 13, maybe 17, maybe 21, or not, maybe 21\", \" Let's do this\", \" Let's term limit ourselves at 25 years\", \" While the extreme left has been wasting America's time with these vile hoaxes, we've been killing terrorists, creating jobs, raising wages, enacting fair trade deals, securing our border, and lifting up citizens of every race, religion, color, and creed\", ' Now Sleepy Joe would say, \"The unemployment rate in the great state of Ohio…\" No, no', ' You ever see the guy with the note, \"No, no, it\\'s South Carolina! It\\'s not Ohio', '\" Well, he\\'s running tomorrow', ' I said, \"That\\'s a horrible thing', \" That's the end of his evening\", \" That's the end of his political career\", '\" And then after the debate, they\\'re revealing him and they said, \"Joe Biden had a great night last night', '\" The unemployment rate here in South Carolina has fallen to 2', \"3%, the lowest rate in your state's history\", \" It's the lowest rate in all of America\", ' I said to a friend of mine, a Democrat, \"How\\'s the race going tomorrow? Who\\'s going to win?\" And he says, \"Mr', ' President…\" No, it\\'s very interesting', \" This guy's a real political pro too, in all fairness, even though he's a Democrat\", ' But I said, \"Who\\'s going to win?\" He said, \"Honestly, sir, it doesn\\'t matter', \" You are so far ahead in South Carolina that it's meaningless\", '\" That\\'s what they say', \" Whether it's this character that nobody ever heard of him\", ' It said, \"Tom, it\\'s not so easy doing what I did', \" He's in there for a fortune\", \" Unfortunately it's not working out too well\", \" That's a big audience\", \" He's not that wealthy\", \" Let's do it together\", \" And then if it's legal, I always say if it's permissible by law, because they have so many little booby traps, but they only like getting the Republicans\", \" All right, so wait a minute, let's do a poll\", \" So let's go through them just quickly\", \" We won't include Steyer because he's a loser\", \" He's out, okay? This guy … this pollster hates Trump's guts\", ' They said, \"He did great with women', '\" So first we\\'ll go … let\\'s say sleepy Joe, right? I think he\\'s out of it', \" I think he's gone\", \" So let's not talk … and he's not in your election anyways, so let's forget\", \" He's basically given up\", \" That's what I hear\", ' You know, he\\'s the kind of a guy, he\\'ll stay in because, \"I don\\'t want to be wrong', '\" Mike, it\\'s time to go home', ' They said, \"She\\'s not dumb, but she\\'s just damn mean', \" She's a mean one\", ' Who do I … So in other words, who\\'s the weaker of the two? He said, \"It doesn\\'t matter, you\\'ll beat them all', '\" They think Bernie\\'s easier to beat', \" So whether it's Bernie Sanders' plan to eliminate private healthcare, Elizabeth Warren's plan\", \" With all these people for years, they're after me years\", \" So Elizabeth Warren's plan to eliminate America's borders\", \" That's what she would … or mini Mike's plan to eliminate your Second Amendment and take away your guns\", ' They\\'ll say, \"Joe Biden had a fabulous crowd today', '\" So fabulous that there\\'s like five people', ' And they\\'ll leave and they\\'ll say, \"President Trump had a smattering of applause', '\" This is not … let\\'s let them hear it', \" It's not a smattering\", \" That's not a smattering\", \" It's 129\", \" They had a field that's about three times … it's cricket\", \" It's the biggest stadium\", \" And I went in, and here's the problem\", \" And normally I like talking about my crowds because I get the crowds like nobody, but I just got back from 140 or 50 or 60,000 people and now I'm coming here\", \" It's hard to be enthused\", ' They have a great leader, and they have a great love for the people of this country', \" And by the way, Tim's incredible mother is right here in the front row\", \" As they're doing that, they got this big … I was going to almost do a poll on the two of them, but we're not doing that\", \" He's the chairman of the Senate Judiciary Committee\", \" He's a superstar\", \" People don't know, but in the last year, prescription drug prices came down for the first time in 51 years\", \" What he's done for our veterans is incredible\", \" That's what it is\", ' I said, \"Tim, what the hell is that?\" And he went through a whole big thing and I said, \"This maybe could work,\" and we tried it', \" It is an incredible success, and what he's done for this country is incredible\", \" Now there's a lot of love in this room\", ' They\\'ll say, \"How do you speak in front of 25,000 people and 10,000 people and all of this?\" There\\'s such love in the room it\\'s easy', \" There is such … I explained, they don't understand it, because they're not for doing that, but I say there is such unbelievable love in the room that it's easy to do\", \" It's sort of easy to do\", \" He's a very special man, retired Marine Corps, major general, and most of you know he received the Congressional Medal of Honor, James E\", ' Livingston', \" Where's James? I always say getting the Presidential Medal of Freedom is much less painful because when I read them off, I'll read like with James or with so many of the Congressional Medal of Honors, many are not living, to be honest with you\", \" And I'll read stories where one of them recently going up a hill, hit 19 times by gunfire, grabbing four people, bringing them down, getting onto a helicopter, falling out of the helicopter, hitting a tree on the way down\", \" We have one right here who's living\", \" And where's Alan? And that's a good thing, not a bad thing\", \" They're working and they have great jobs and they love getting up in the morning and they're making much more money and it costs our country nothing\", \" It's a whole different deal\", \" It's a good one\", \" That's a good one\", ' They want to treat illegal aliens, people that come into our country illegally, better than they want to treat our military and our veterans', \" It's being built\", \" He's building the wall\", '\" And you think it\\'s easy getting that kind of money to build a wall when I have a whole party and a deep State and some never-Trumpers? But you think it\\'s easy', \" It's not\", \" But that's been built\", \" He's building the wall, but Mexico's not paying for it\", '\" And some of the fake news knows that, but they refuse to report it, but that\\'s okay', \" You'll see what's going on\", \" And they don't do it for mini Mike, that's for sure\", \" It's tough stuff, right? That's where these guys get together and they knock the hell\", ' How many people did you get kill last year with a knife,\" because they like knives because it\\'s more painful', \" Federal appeals court, where we don't have to give money to sanctuary cities and States if they don't work with us, finally\", \" It's good\", \" It's great\", \" They're judges that if we feel it's right, they don't want to invite the world to trespass across our borders\", \" We won't let it happen, and now we don't have to give sanctuary cities and states the money that they're going to want\", \" It's a whole game changer\", ' \"I don\\'t think he\\'s doing a good job', '\" This guy doesn\\'t know he\\'s alive', ' We say, \"Could we please have your address?\" I don\\'t know what the hell is an address?\" Could we call your mother or your father and say in four years you have to come to court', '\" What they do is they catch him, they get some information that the guy has no idea where he lives, and it\\'s one of those things in many cases, and then release', ' If you knew what it took … We catch them, and we take some information and we release them in, and we say, \"Please report back in four years from now for your trial', '\" About 2% come back, and they\\'re the ones that are the dumbest people I\\'ve ever seen', \" It's crazy, but we're getting a change\", \" That's what's going to happen\", ' He said, \"You can keep your doctor and you can keep your plan', '\" It\\'s wonderful', \" It's not really Obamacare anymore, but we're running the hulk of it and we're trying to kill it entirely, and then we will put it back\", \" I mean, there's something\", \" There's no difference\", \" We've totally transformed veteran's healthcare, getting long ought VA choice and VA accountability passed after 50 years\", \" Kidney disease is so tough that people die literally because it's so much work\", \" It's just crazy\", \" We've done things that make it so much easier, and it's just such an honor to be involved\", \" Also, Alzheimer's disease, we're really making strides\", \" It's really a great thing\", \" we're pursuing new advances in neonatal research to care for America's youngest patients and breaking all records in so doing\", \" Virtually every Democrat candidate has declared their unlimited support for extreme late term abortion, ripping babies straight from the mother's womb right up until the very moment of birth\", \" That's a big deal\", \" I wasn't sure about the issue, but we had a lot of great Republicans, very much in favor of it, including people that happen to be right here today\", \" A great woman, but we have many people coming out that shouldn't be there for anywhere near those terms\", \" I called Tim, who's so great on everything\", \" They needed four senators and maybe five, and they needed help with some of the ones that weren't moving in the right direction\", ' They say, \"Van Jones wants to thank everybody for criminal justice reform', '\" It\\'s going to be so nice, because honestly, look, they couldn\\'t have done even close without me', '\" They couldn\\'t even think about doing it, and they tried, although I don\\'t think they tried too hard, bur they could have never done it', \" It's true\", \" He's one of the few people, he really looked better when he was heavy\", \" He would admit that he has a lot of respect for your president, but he can't admit it on television\", '\" But he called and he said, \"I want to take the Reverend Al Sharpton,\" and then name after name after name of people that I never heard of', ' My wife said, \"Are they going to think about you, right? I said, \"He\\'s saving me til the end, because I was by far', '\" I said, \"He\\'s saving me til the end', \" It's going to be such an honor to be recognized, because I don't get enough publicity\", ' She said, \"That\\'s too bad', '\" Then he said, \"I have one more thing to say', \" It's true? It's a true story\", \" I recognized Israel's true capital and opened the American embassy in Jerusalem\", \" Every president for many, many decades promised we're going to do that\", ' I said, \"I\\'m not joking', '\" I said, \"No, it\\'s all about space', '\" In a number of years, people are going to say, \"I can\\'t believe we didn\\'t do this sooner', '\" At arenas like this, it gets one of the biggest hands, because that\\'s where it\\'s at', \" That's where it's going, unfortunately, or fortunately\", \" I really believe that it's the survival\", \" You got a lot of dirty people, but you also have phenomenal people in the FBI and other places, but we're draining that swamp\", \" I never knew it was going to be this dirty, and we're getting a lot of help from a lot of great people\", \" That's what's happening\", \" It's an incredible story\", \" I give about 99% of the credit to Tim Scott's mother\", \" It was let's go to work, right? We will achieve new breakthroughs in science and medicine, finding new cures for childhood cancer, infectious diseases like we're working on right now, and ending the AIDS epidemic\", ' We believe that children should be taught to love our country, honor our history, and to always respect our great American flag, and we live by the words of our national motto, \"In God we trust', '\" With your help, your devotion and your drive, we are going to keep on working, we are going to keep on fighting, and we are going to keep on winning, winning, winning', \" You have a great governor, you have two senators, great congressman, the greatest year you've ever had, but some people in South Carolina are getting a little tired, I'm surprised to hear this, of winning\", ' Some actually called in two great senators into a big meeting, a town hall, and they said, \"Senator Scott, Senator Lindsay Graham, we\\'re tired of winning and South Carolina', \" It's too much\", ' They\\'re going to come in and say, \"Sir, I hate to tell you, but the people of South Carolina don\\'t want to win anymore', '\" They want to win more than anybody, and we\\'re not going to change a thing, because we\\'re winning like never before', ' Go back to South Carolina, because we are one movement, one people, one family, and one glorious nation under God', ' The best is yet to come, because together we will make America wealthy again, we will make America strong again, we will make America proud again, we will make America safe again, and we will make America great again', '']\n"
          ]
        }
      ]
    },
    {
      "cell_type": "code",
      "source": [
        "from graphviz import Digraph\n",
        "g = Digraph('unix', filename='concept-map2',node_attr={'color': 'lightblue2', 'style': 'filled','shape': 'box'})\n",
        "\n",
        "for i in range(len(R)-1):\n",
        "  if len(R[i+1])>1:\n",
        "    g.edge(R[i],R[i+1])\n",
        "g.view()"
      ],
      "metadata": {
        "colab": {
          "base_uri": "https://localhost:8080/",
          "height": 36
        },
        "id": "951CPpML4kif",
        "outputId": "07c8c1c0-7e8e-4b3a-a565-c0db2bff9af5"
      },
      "execution_count": 30,
      "outputs": [
        {
          "output_type": "execute_result",
          "data": {
            "text/plain": [
              "'concept-map2.pdf'"
            ],
            "application/vnd.google.colaboratory.intrinsic+json": {
              "type": "string"
            }
          },
          "metadata": {},
          "execution_count": 30
        }
      ]
    },
    {
      "cell_type": "code",
      "source": [
        "from google.colab import files\n",
        "files.download('concept-map2.pdf')"
      ],
      "metadata": {
        "colab": {
          "base_uri": "https://localhost:8080/",
          "height": 17
        },
        "id": "laPTn4LU4npG",
        "outputId": "cf029d33-fbe8-4733-e285-e6acc26b030d"
      },
      "execution_count": 31,
      "outputs": [
        {
          "output_type": "display_data",
          "data": {
            "text/plain": [
              "<IPython.core.display.Javascript object>"
            ],
            "application/javascript": [
              "\n",
              "    async function download(id, filename, size) {\n",
              "      if (!google.colab.kernel.accessAllowed) {\n",
              "        return;\n",
              "      }\n",
              "      const div = document.createElement('div');\n",
              "      const label = document.createElement('label');\n",
              "      label.textContent = `Downloading \"${filename}\": `;\n",
              "      div.appendChild(label);\n",
              "      const progress = document.createElement('progress');\n",
              "      progress.max = size;\n",
              "      div.appendChild(progress);\n",
              "      document.body.appendChild(div);\n",
              "\n",
              "      const buffers = [];\n",
              "      let downloaded = 0;\n",
              "\n",
              "      const channel = await google.colab.kernel.comms.open(id);\n",
              "      // Send a message to notify the kernel that we're ready.\n",
              "      channel.send({})\n",
              "\n",
              "      for await (const message of channel.messages) {\n",
              "        // Send a message to notify the kernel that we're ready.\n",
              "        channel.send({})\n",
              "        if (message.buffers) {\n",
              "          for (const buffer of message.buffers) {\n",
              "            buffers.push(buffer);\n",
              "            downloaded += buffer.byteLength;\n",
              "            progress.value = downloaded;\n",
              "          }\n",
              "        }\n",
              "      }\n",
              "      const blob = new Blob(buffers, {type: 'application/binary'});\n",
              "      const a = document.createElement('a');\n",
              "      a.href = window.URL.createObjectURL(blob);\n",
              "      a.download = filename;\n",
              "      div.appendChild(a);\n",
              "      a.click();\n",
              "      div.remove();\n",
              "    }\n",
              "  "
            ]
          },
          "metadata": {}
        },
        {
          "output_type": "display_data",
          "data": {
            "text/plain": [
              "<IPython.core.display.Javascript object>"
            ],
            "application/javascript": [
              "download(\"download_caf9097b-ab1c-4551-aaec-e2cd1da48a64\", \"concept-map2.pdf\", 48522)"
            ]
          },
          "metadata": {}
        }
      ]
    }
  ]
}